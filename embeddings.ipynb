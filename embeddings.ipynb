{
  "nbformat": 4,
  "nbformat_minor": 0,
  "metadata": {
    "colab": {
      "name": "embeddings.ipynb",
      "provenance": [],
      "collapsed_sections": []
    },
    "kernelspec": {
      "name": "python3",
      "display_name": "Python 3"
    },
    "language_info": {
      "name": "python"
    }
  },
  "cells": [
    {
      "cell_type": "code",
      "metadata": {
        "id": "4EJ3_MgEn3FO"
      },
      "source": [
        "!pip install tensorflow-text"
      ],
      "execution_count": null,
      "outputs": []
    },
    {
      "cell_type": "code",
      "metadata": {
        "id": "gamGG-LWmO39"
      },
      "source": [
        "import tensorflow as tf\n",
        "import tensorflow_hub as hub\n",
        "import tensorflow_text\n",
        "from scipy import spatial\n",
        "import numpy as np\n"
      ],
      "execution_count": null,
      "outputs": []
    },
    {
      "cell_type": "code",
      "metadata": {
        "id": "V8tWAI9vmlw4"
      },
      "source": [
        "module_url_1 = \"https://tfhub.dev/google/universal-sentence-encoder-multilingual/3\"\n",
        "module_url_2 = \"https://tfhub.dev/google/universal-sentence-encoder-multilingual-large/3\"\n",
        "model_1 = hub.load(module_url_1)\n",
        "model_2 = hub.load(module_url_2)"
      ],
      "execution_count": null,
      "outputs": []
    },
    {
      "cell_type": "code",
      "metadata": {
        "colab": {
          "base_uri": "https://localhost:8080/",
          "height": 54
        },
        "id": "lpFZ3YEbnNbT",
        "outputId": "5bc7b06f-b849-4fb1-f43d-c24441207e4e"
      },
      "source": [
        "input = \"agreement\"\n",
        "\n",
        "embedding_input_1 = model_1(input)\n",
        "display(embedding_input_1.shape)\n",
        "embedding_input_2 = model_2(input)\n",
        "display(embedding_input_2.shape)"
      ],
      "execution_count": null,
      "outputs": [
        {
          "output_type": "display_data",
          "data": {
            "text/plain": [
              "TensorShape([1, 512])"
            ]
          },
          "metadata": {}
        },
        {
          "output_type": "display_data",
          "data": {
            "text/plain": [
              "TensorShape([1, 512])"
            ]
          },
          "metadata": {}
        }
      ]
    },
    {
      "cell_type": "code",
      "metadata": {
        "colab": {
          "base_uri": "https://localhost:8080/",
          "height": 54
        },
        "id": "kvwArEWooIFw",
        "outputId": "41af44e0-7283-4ad3-a3e7-8fafea96e8b3"
      },
      "source": [
        "input2 = \"Einigung\"\n",
        "embedding_input_2_1 = model_1(input2)\n",
        "display(embedding_input_2_1.shape)\n",
        "embedding_input_2_3 = model_2(input2)\n",
        "display(embedding_input_2_3.shape)"
      ],
      "execution_count": null,
      "outputs": [
        {
          "output_type": "display_data",
          "data": {
            "text/plain": [
              "TensorShape([1, 512])"
            ]
          },
          "metadata": {}
        },
        {
          "output_type": "display_data",
          "data": {
            "text/plain": [
              "TensorShape([1, 512])"
            ]
          },
          "metadata": {}
        }
      ]
    },
    {
      "cell_type": "code",
      "metadata": {
        "colab": {
          "base_uri": "https://localhost:8080/",
          "height": 54
        },
        "id": "cv5CmEb8oY10",
        "outputId": "9f237dd5-70c4-4fa4-d7db-1396b24c2dfb"
      },
      "source": [
        " \n",
        " result = 1 - spatial.distance.cosine(embedding_input_1, embedding_input_2_1)\n",
        " display(result)\n",
        " \n",
        " result = 1 - spatial.distance.cosine(embedding_input_2, embedding_input_2_3)\n",
        " display(result)"
      ],
      "execution_count": null,
      "outputs": [
        {
          "output_type": "display_data",
          "data": {
            "text/plain": [
              "0.6080600619316101"
            ]
          },
          "metadata": {}
        },
        {
          "output_type": "display_data",
          "data": {
            "text/plain": [
              "0.5760625600814819"
            ]
          },
          "metadata": {}
        }
      ]
    },
    {
      "cell_type": "code",
      "metadata": {
        "id": "Yiw8soFCupEe"
      },
      "source": [
        "text_input = tf.keras.layers.Input(shape=(), dtype=tf.string)\n",
        "preprocessor = hub.KerasLayer(\n",
        "    \"https://tfhub.dev/tensorflow/bert_multi_cased_preprocess/3\")\n",
        "encoder_inputs = preprocessor(text_input)\n",
        "encoder = hub.KerasLayer(\n",
        "    \"https://tfhub.dev/tensorflow/bert_multi_cased_L-12_H-768_A-12/4\",\n",
        "    trainable=True)\n",
        "outputs = encoder(encoder_inputs)\n",
        "pooled_output = outputs[\"pooled_output\"]      # [batch_size, 768].\n",
        "sequence_output = outputs[\"sequence_output\"]  # [batch_size, seq_length, 768].\n"
      ],
      "execution_count": null,
      "outputs": []
    },
    {
      "cell_type": "code",
      "metadata": {
        "colab": {
          "base_uri": "https://localhost:8080/"
        },
        "id": "d-Efb6YSuqzL",
        "outputId": "3d7c99d7-2d51-42a6-a58b-f8a37027be2b"
      },
      "source": [
        "embedding_model = tf.keras.Model(text_input, pooled_output)\n",
        "emb1 = tf.constant([\"car\"])\n",
        "emb2 = tf.constant([\"König\"])\n",
        "\n",
        "import numpy as np\n",
        "emb1 = np.array(embedding_model(emb1))\n",
        "emb2 = np.array(embedding_model(emb2))\n",
        "print(emb1.shape)\n",
        "print(emb2.shape)\n"
      ],
      "execution_count": null,
      "outputs": [
        {
          "output_type": "stream",
          "name": "stdout",
          "text": [
            "(1, 768)\n",
            "(1, 768)\n"
          ]
        }
      ]
    },
    {
      "cell_type": "code",
      "metadata": {
        "colab": {
          "base_uri": "https://localhost:8080/",
          "height": 36
        },
        "id": "CXoS6h8XvGRf",
        "outputId": "7caa4a31-8972-426f-b72f-5e90253f34d1"
      },
      "source": [
        "result = 1 - spatial.distance.cosine(emb1, emb2)\n",
        "display(result)"
      ],
      "execution_count": null,
      "outputs": [
        {
          "output_type": "display_data",
          "data": {
            "text/plain": [
              "0.8962827920913696"
            ]
          },
          "metadata": {}
        }
      ]
    },
    {
      "cell_type": "markdown",
      "metadata": {
        "id": "na4mD-iryycw"
      },
      "source": [
        "###### load NRC intensity lexicon"
      ]
    },
    {
      "cell_type": "code",
      "metadata": {
        "colab": {
          "base_uri": "https://localhost:8080/"
        },
        "id": "rX3kBQnhy-J5",
        "outputId": "42e9b944-c221-45fa-be4a-282bba4e5018"
      },
      "source": [
        "%cd "
      ],
      "execution_count": null,
      "outputs": [
        {
          "output_type": "stream",
          "name": "stdout",
          "text": [
            "/root\n"
          ]
        }
      ]
    },
    {
      "cell_type": "code",
      "metadata": {
        "colab": {
          "base_uri": "https://localhost:8080/"
        },
        "id": "35tjJwcQzL15",
        "outputId": "df1a1f3c-d43b-440c-ea23-6a7eee4ea8a8"
      },
      "source": [
        "%cd /content/drive/MyDrive/emotion_flow_thesis/nrclexicon"
      ],
      "execution_count": null,
      "outputs": [
        {
          "output_type": "stream",
          "name": "stdout",
          "text": [
            "/content/drive/MyDrive/emotion_flow_thesis/nrclexicon\n"
          ]
        }
      ]
    },
    {
      "cell_type": "code",
      "metadata": {
        "id": "VRGpZf9QvMUn"
      },
      "source": [
        "import pandas as pd\n",
        "filepath = \"data/NRC-Emotion-Intensity-Lexicon-v1-ForVariousLanguages.txt\"\n",
        "emolex_df = pd.read_csv(filepath, skiprows=0, sep='\\t', keep_default_na=False)\n",
        "emolex_df_short = emolex_df[[\"word\", \"emotion\", \"emotion-intensity-score\"]]\n"
      ],
      "execution_count": null,
      "outputs": []
    },
    {
      "cell_type": "markdown",
      "metadata": {
        "id": "Towt7GUUfyrK"
      },
      "source": [
        "###### load NRC lexicon (not intensity)"
      ]
    },
    {
      "cell_type": "code",
      "metadata": {
        "id": "jQHujt6Ff4TL"
      },
      "source": [
        "%cd\n",
        "%cd /content/drive/MyDrive/emotion_flow_thesis/nrclexicon/\n",
        "import pandas as pd\n",
        "filepath = \"data/NRC-Emotion-Lexicon-v0.92-In105Languages-Nov2017Translations.xlsx\"\n",
        "emolex_df = pd.read_excel(filepath)  \n",
        "emolex_df"
      ],
      "execution_count": null,
      "outputs": []
    },
    {
      "cell_type": "code",
      "metadata": {
        "id": "_th9guC2gAX1"
      },
      "source": [
        "emolex_df.columns\n",
        "emolex_df_short = emolex_df[['English (en)', 'German (de)', 'Positive', \t'Negative', \t'Anger', \t'Anticipation', \t'Disgust', \t'Fear', \t'Joy', \t'Sadness', \t'Surprise', \t'Trust']]\n",
        "emolex_df_short"
      ],
      "execution_count": null,
      "outputs": []
    },
    {
      "cell_type": "markdown",
      "metadata": {
        "id": "Lk5PtPGP5IFn"
      },
      "source": [
        "###### Create NRC lexicon with embeddings"
      ]
    },
    {
      "cell_type": "code",
      "metadata": {
        "id": "RkoxIpOf4O4F"
      },
      "source": [
        "embeddings_df = pd.DataFrame(columns=range(512))\n",
        "display(embeddings_df)\n",
        "count = 0\n",
        "for index, row in emolex_df_short.iterrows():\n",
        "    word = row[\"English (en)\"]\n",
        "\n",
        "    input = tf.constant([word])\n",
        "\n",
        "    embedding = np.array(embedding_model(input))\n",
        "    \n",
        "    embedding = list(embedding[0])\n",
        "\n",
        "    embeddings_df.loc[len(embeddings_df.index)] = embedding\n",
        "    print(count)\n",
        "    count += 1\n",
        "    if count == 5:\n",
        "      break\n",
        "    print(word)\n",
        "display(embeddings_df)\n",
        "    "
      ],
      "execution_count": null,
      "outputs": []
    },
    {
      "cell_type": "code",
      "metadata": {
        "id": "WtUgT6Rst98f"
      },
      "source": [
        "embeddings_df.to_csv(\"embeddings.csv\", index=False)\n",
        "embeddings_df.to_csv(\"embeddings_index.csv\", index=True)"
      ],
      "execution_count": null,
      "outputs": []
    },
    {
      "cell_type": "code",
      "metadata": {
        "colab": {
          "base_uri": "https://localhost:8080/",
          "height": 424
        },
        "id": "9idiwmFckYoV",
        "outputId": "ac6105f7-95f4-4f4c-80aa-7ad1fbf20801"
      },
      "source": [
        "emolex_df_short"
      ],
      "execution_count": null,
      "outputs": [
        {
          "output_type": "execute_result",
          "data": {
            "text/html": [
              "<div>\n",
              "<style scoped>\n",
              "    .dataframe tbody tr th:only-of-type {\n",
              "        vertical-align: middle;\n",
              "    }\n",
              "\n",
              "    .dataframe tbody tr th {\n",
              "        vertical-align: top;\n",
              "    }\n",
              "\n",
              "    .dataframe thead th {\n",
              "        text-align: right;\n",
              "    }\n",
              "</style>\n",
              "<table border=\"1\" class=\"dataframe\">\n",
              "  <thead>\n",
              "    <tr style=\"text-align: right;\">\n",
              "      <th></th>\n",
              "      <th>English (en)</th>\n",
              "      <th>German (de)</th>\n",
              "      <th>Positive</th>\n",
              "      <th>Negative</th>\n",
              "      <th>Anger</th>\n",
              "      <th>Anticipation</th>\n",
              "      <th>Disgust</th>\n",
              "      <th>Fear</th>\n",
              "      <th>Joy</th>\n",
              "      <th>Sadness</th>\n",
              "      <th>Surprise</th>\n",
              "      <th>Trust</th>\n",
              "    </tr>\n",
              "  </thead>\n",
              "  <tbody>\n",
              "    <tr>\n",
              "      <th>0</th>\n",
              "      <td>aback</td>\n",
              "      <td>zurück</td>\n",
              "      <td>0</td>\n",
              "      <td>0</td>\n",
              "      <td>0</td>\n",
              "      <td>0</td>\n",
              "      <td>0</td>\n",
              "      <td>0</td>\n",
              "      <td>0</td>\n",
              "      <td>0</td>\n",
              "      <td>0</td>\n",
              "      <td>0</td>\n",
              "    </tr>\n",
              "    <tr>\n",
              "      <th>1</th>\n",
              "      <td>abacus</td>\n",
              "      <td>Abakus</td>\n",
              "      <td>0</td>\n",
              "      <td>0</td>\n",
              "      <td>0</td>\n",
              "      <td>0</td>\n",
              "      <td>0</td>\n",
              "      <td>0</td>\n",
              "      <td>0</td>\n",
              "      <td>0</td>\n",
              "      <td>0</td>\n",
              "      <td>1</td>\n",
              "    </tr>\n",
              "    <tr>\n",
              "      <th>2</th>\n",
              "      <td>abandon</td>\n",
              "      <td>verlassen</td>\n",
              "      <td>0</td>\n",
              "      <td>1</td>\n",
              "      <td>0</td>\n",
              "      <td>0</td>\n",
              "      <td>0</td>\n",
              "      <td>1</td>\n",
              "      <td>0</td>\n",
              "      <td>1</td>\n",
              "      <td>0</td>\n",
              "      <td>0</td>\n",
              "    </tr>\n",
              "    <tr>\n",
              "      <th>3</th>\n",
              "      <td>abandoned</td>\n",
              "      <td>verlassen</td>\n",
              "      <td>0</td>\n",
              "      <td>1</td>\n",
              "      <td>1</td>\n",
              "      <td>0</td>\n",
              "      <td>0</td>\n",
              "      <td>1</td>\n",
              "      <td>0</td>\n",
              "      <td>1</td>\n",
              "      <td>0</td>\n",
              "      <td>0</td>\n",
              "    </tr>\n",
              "    <tr>\n",
              "      <th>4</th>\n",
              "      <td>abandonment</td>\n",
              "      <td>Aufgabe</td>\n",
              "      <td>0</td>\n",
              "      <td>1</td>\n",
              "      <td>1</td>\n",
              "      <td>0</td>\n",
              "      <td>0</td>\n",
              "      <td>1</td>\n",
              "      <td>0</td>\n",
              "      <td>1</td>\n",
              "      <td>1</td>\n",
              "      <td>0</td>\n",
              "    </tr>\n",
              "    <tr>\n",
              "      <th>...</th>\n",
              "      <td>...</td>\n",
              "      <td>...</td>\n",
              "      <td>...</td>\n",
              "      <td>...</td>\n",
              "      <td>...</td>\n",
              "      <td>...</td>\n",
              "      <td>...</td>\n",
              "      <td>...</td>\n",
              "      <td>...</td>\n",
              "      <td>...</td>\n",
              "      <td>...</td>\n",
              "      <td>...</td>\n",
              "    </tr>\n",
              "    <tr>\n",
              "      <th>14177</th>\n",
              "      <td>zone</td>\n",
              "      <td>Zone</td>\n",
              "      <td>0</td>\n",
              "      <td>0</td>\n",
              "      <td>0</td>\n",
              "      <td>0</td>\n",
              "      <td>0</td>\n",
              "      <td>0</td>\n",
              "      <td>0</td>\n",
              "      <td>0</td>\n",
              "      <td>0</td>\n",
              "      <td>0</td>\n",
              "    </tr>\n",
              "    <tr>\n",
              "      <th>14178</th>\n",
              "      <td>zoo</td>\n",
              "      <td>Zoo</td>\n",
              "      <td>0</td>\n",
              "      <td>0</td>\n",
              "      <td>0</td>\n",
              "      <td>0</td>\n",
              "      <td>0</td>\n",
              "      <td>0</td>\n",
              "      <td>0</td>\n",
              "      <td>0</td>\n",
              "      <td>0</td>\n",
              "      <td>0</td>\n",
              "    </tr>\n",
              "    <tr>\n",
              "      <th>14179</th>\n",
              "      <td>zoological</td>\n",
              "      <td>zoologisch</td>\n",
              "      <td>0</td>\n",
              "      <td>0</td>\n",
              "      <td>0</td>\n",
              "      <td>0</td>\n",
              "      <td>0</td>\n",
              "      <td>0</td>\n",
              "      <td>0</td>\n",
              "      <td>0</td>\n",
              "      <td>0</td>\n",
              "      <td>0</td>\n",
              "    </tr>\n",
              "    <tr>\n",
              "      <th>14180</th>\n",
              "      <td>zoology</td>\n",
              "      <td>Zoologie</td>\n",
              "      <td>0</td>\n",
              "      <td>0</td>\n",
              "      <td>0</td>\n",
              "      <td>0</td>\n",
              "      <td>0</td>\n",
              "      <td>0</td>\n",
              "      <td>0</td>\n",
              "      <td>0</td>\n",
              "      <td>0</td>\n",
              "      <td>0</td>\n",
              "    </tr>\n",
              "    <tr>\n",
              "      <th>14181</th>\n",
              "      <td>zoom</td>\n",
              "      <td>Zoomen</td>\n",
              "      <td>0</td>\n",
              "      <td>0</td>\n",
              "      <td>0</td>\n",
              "      <td>0</td>\n",
              "      <td>0</td>\n",
              "      <td>0</td>\n",
              "      <td>0</td>\n",
              "      <td>0</td>\n",
              "      <td>0</td>\n",
              "      <td>0</td>\n",
              "    </tr>\n",
              "  </tbody>\n",
              "</table>\n",
              "<p>14182 rows × 12 columns</p>\n",
              "</div>"
            ],
            "text/plain": [
              "      English (en) German (de)  Positive  ...  Sadness  Surprise  Trust\n",
              "0            aback      zurück         0  ...        0         0      0\n",
              "1           abacus      Abakus         0  ...        0         0      1\n",
              "2          abandon   verlassen         0  ...        1         0      0\n",
              "3        abandoned   verlassen         0  ...        1         0      0\n",
              "4      abandonment     Aufgabe         0  ...        1         1      0\n",
              "...            ...         ...       ...  ...      ...       ...    ...\n",
              "14177         zone        Zone         0  ...        0         0      0\n",
              "14178          zoo         Zoo         0  ...        0         0      0\n",
              "14179   zoological  zoologisch         0  ...        0         0      0\n",
              "14180      zoology    Zoologie         0  ...        0         0      0\n",
              "14181         zoom      Zoomen         0  ...        0         0      0\n",
              "\n",
              "[14182 rows x 12 columns]"
            ]
          },
          "metadata": {},
          "execution_count": 17
        }
      ]
    },
    {
      "cell_type": "code",
      "metadata": {
        "colab": {
          "base_uri": "https://localhost:8080/",
          "height": 110
        },
        "id": "mAVZP4E4kLjm",
        "outputId": "c10dd405-a715-4265-e6b1-fd9f612a6757"
      },
      "source": [
        "for i in range(5):\n",
        "  display(str((emolex_df_short.iloc[8480+i])['English (en)']))"
      ],
      "execution_count": null,
      "outputs": [
        {
          "output_type": "display_data",
          "data": {
            "application/vnd.google.colaboratory.intrinsic+json": {
              "type": "string"
            },
            "text/plain": [
              "'nudity'"
            ]
          },
          "metadata": {}
        },
        {
          "output_type": "display_data",
          "data": {
            "application/vnd.google.colaboratory.intrinsic+json": {
              "type": "string"
            },
            "text/plain": [
              "'nugget'"
            ]
          },
          "metadata": {}
        },
        {
          "output_type": "display_data",
          "data": {
            "application/vnd.google.colaboratory.intrinsic+json": {
              "type": "string"
            },
            "text/plain": [
              "'nuisance'"
            ]
          },
          "metadata": {}
        },
        {
          "output_type": "display_data",
          "data": {
            "application/vnd.google.colaboratory.intrinsic+json": {
              "type": "string"
            },
            "text/plain": [
              "'nul'"
            ]
          },
          "metadata": {}
        },
        {
          "output_type": "display_data",
          "data": {
            "application/vnd.google.colaboratory.intrinsic+json": {
              "type": "string"
            },
            "text/plain": [
              "'nan'"
            ]
          },
          "metadata": {}
        }
      ]
    },
    {
      "cell_type": "code",
      "metadata": {
        "id": "l5tLAUx56mtw"
      },
      "source": [
        "\n",
        "embeddings_df = pd.DataFrame(columns=range(512))\n",
        "display(embeddings_df)\n",
        "count = 0\n",
        "for index, row in emolex_df_short.iterrows():\n",
        "    word = row[\"English (en)\"]\n",
        "    \n",
        "    embedding = np.array(model_1(str(word)))    \n",
        "    embedding = list(embedding[0])\n",
        "    embeddings_df.loc[len(embeddings_df.index)] = embedding\n",
        "    print(count)\n",
        "    count += 1\n",
        "    \n",
        "display(embeddings_df)"
      ],
      "execution_count": null,
      "outputs": []
    },
    {
      "cell_type": "code",
      "metadata": {
        "id": "43Ghy4RNnMNg",
        "outputId": "520505f4-3238-4b84-e0c1-95c87d2cb398",
        "colab": {
          "base_uri": "https://localhost:8080/",
          "height": 444
        }
      },
      "source": [
        "display(embeddings_df)"
      ],
      "execution_count": null,
      "outputs": [
        {
          "output_type": "display_data",
          "data": {
            "text/html": [
              "<div>\n",
              "<style scoped>\n",
              "    .dataframe tbody tr th:only-of-type {\n",
              "        vertical-align: middle;\n",
              "    }\n",
              "\n",
              "    .dataframe tbody tr th {\n",
              "        vertical-align: top;\n",
              "    }\n",
              "\n",
              "    .dataframe thead th {\n",
              "        text-align: right;\n",
              "    }\n",
              "</style>\n",
              "<table border=\"1\" class=\"dataframe\">\n",
              "  <thead>\n",
              "    <tr style=\"text-align: right;\">\n",
              "      <th></th>\n",
              "      <th>0</th>\n",
              "      <th>1</th>\n",
              "      <th>2</th>\n",
              "      <th>3</th>\n",
              "      <th>4</th>\n",
              "      <th>5</th>\n",
              "      <th>6</th>\n",
              "      <th>7</th>\n",
              "      <th>8</th>\n",
              "      <th>9</th>\n",
              "      <th>10</th>\n",
              "      <th>11</th>\n",
              "      <th>12</th>\n",
              "      <th>13</th>\n",
              "      <th>14</th>\n",
              "      <th>15</th>\n",
              "      <th>16</th>\n",
              "      <th>17</th>\n",
              "      <th>18</th>\n",
              "      <th>19</th>\n",
              "      <th>20</th>\n",
              "      <th>21</th>\n",
              "      <th>22</th>\n",
              "      <th>23</th>\n",
              "      <th>24</th>\n",
              "      <th>25</th>\n",
              "      <th>26</th>\n",
              "      <th>27</th>\n",
              "      <th>28</th>\n",
              "      <th>29</th>\n",
              "      <th>30</th>\n",
              "      <th>31</th>\n",
              "      <th>32</th>\n",
              "      <th>33</th>\n",
              "      <th>34</th>\n",
              "      <th>35</th>\n",
              "      <th>36</th>\n",
              "      <th>37</th>\n",
              "      <th>38</th>\n",
              "      <th>39</th>\n",
              "      <th>...</th>\n",
              "      <th>472</th>\n",
              "      <th>473</th>\n",
              "      <th>474</th>\n",
              "      <th>475</th>\n",
              "      <th>476</th>\n",
              "      <th>477</th>\n",
              "      <th>478</th>\n",
              "      <th>479</th>\n",
              "      <th>480</th>\n",
              "      <th>481</th>\n",
              "      <th>482</th>\n",
              "      <th>483</th>\n",
              "      <th>484</th>\n",
              "      <th>485</th>\n",
              "      <th>486</th>\n",
              "      <th>487</th>\n",
              "      <th>488</th>\n",
              "      <th>489</th>\n",
              "      <th>490</th>\n",
              "      <th>491</th>\n",
              "      <th>492</th>\n",
              "      <th>493</th>\n",
              "      <th>494</th>\n",
              "      <th>495</th>\n",
              "      <th>496</th>\n",
              "      <th>497</th>\n",
              "      <th>498</th>\n",
              "      <th>499</th>\n",
              "      <th>500</th>\n",
              "      <th>501</th>\n",
              "      <th>502</th>\n",
              "      <th>503</th>\n",
              "      <th>504</th>\n",
              "      <th>505</th>\n",
              "      <th>506</th>\n",
              "      <th>507</th>\n",
              "      <th>508</th>\n",
              "      <th>509</th>\n",
              "      <th>510</th>\n",
              "      <th>511</th>\n",
              "    </tr>\n",
              "  </thead>\n",
              "  <tbody>\n",
              "    <tr>\n",
              "      <th>0</th>\n",
              "      <td>0.149352</td>\n",
              "      <td>-0.003459</td>\n",
              "      <td>-0.065422</td>\n",
              "      <td>-0.028715</td>\n",
              "      <td>-0.051330</td>\n",
              "      <td>0.006737</td>\n",
              "      <td>0.058559</td>\n",
              "      <td>0.095040</td>\n",
              "      <td>-0.021063</td>\n",
              "      <td>-0.044034</td>\n",
              "      <td>-0.041016</td>\n",
              "      <td>-0.001103</td>\n",
              "      <td>-0.041896</td>\n",
              "      <td>-0.025348</td>\n",
              "      <td>-0.036527</td>\n",
              "      <td>-0.017931</td>\n",
              "      <td>-0.023806</td>\n",
              "      <td>0.048461</td>\n",
              "      <td>-0.059002</td>\n",
              "      <td>0.087159</td>\n",
              "      <td>-0.030405</td>\n",
              "      <td>0.141753</td>\n",
              "      <td>0.056645</td>\n",
              "      <td>-0.004798</td>\n",
              "      <td>0.064418</td>\n",
              "      <td>0.020047</td>\n",
              "      <td>0.013349</td>\n",
              "      <td>0.030566</td>\n",
              "      <td>0.005457</td>\n",
              "      <td>0.016997</td>\n",
              "      <td>0.038505</td>\n",
              "      <td>0.070150</td>\n",
              "      <td>0.001943</td>\n",
              "      <td>-0.061528</td>\n",
              "      <td>-0.018682</td>\n",
              "      <td>-0.062276</td>\n",
              "      <td>-0.058789</td>\n",
              "      <td>0.038703</td>\n",
              "      <td>0.018262</td>\n",
              "      <td>0.026396</td>\n",
              "      <td>...</td>\n",
              "      <td>0.007557</td>\n",
              "      <td>-0.019122</td>\n",
              "      <td>0.075607</td>\n",
              "      <td>0.017159</td>\n",
              "      <td>0.013709</td>\n",
              "      <td>-0.038075</td>\n",
              "      <td>0.044675</td>\n",
              "      <td>0.047889</td>\n",
              "      <td>-0.031919</td>\n",
              "      <td>0.144506</td>\n",
              "      <td>0.023908</td>\n",
              "      <td>-0.022499</td>\n",
              "      <td>-0.018366</td>\n",
              "      <td>0.001174</td>\n",
              "      <td>0.023365</td>\n",
              "      <td>-0.117180</td>\n",
              "      <td>0.004208</td>\n",
              "      <td>0.032454</td>\n",
              "      <td>0.005253</td>\n",
              "      <td>0.015592</td>\n",
              "      <td>0.005585</td>\n",
              "      <td>-0.000541</td>\n",
              "      <td>-0.017391</td>\n",
              "      <td>-0.038685</td>\n",
              "      <td>-0.060557</td>\n",
              "      <td>0.013524</td>\n",
              "      <td>-0.008002</td>\n",
              "      <td>0.042231</td>\n",
              "      <td>-0.057411</td>\n",
              "      <td>-0.048669</td>\n",
              "      <td>-0.086644</td>\n",
              "      <td>-0.014687</td>\n",
              "      <td>0.062922</td>\n",
              "      <td>-0.002512</td>\n",
              "      <td>-0.024360</td>\n",
              "      <td>-0.025476</td>\n",
              "      <td>0.013133</td>\n",
              "      <td>0.086978</td>\n",
              "      <td>0.012901</td>\n",
              "      <td>0.062648</td>\n",
              "    </tr>\n",
              "    <tr>\n",
              "      <th>1</th>\n",
              "      <td>0.107717</td>\n",
              "      <td>-0.018898</td>\n",
              "      <td>-0.011394</td>\n",
              "      <td>0.050276</td>\n",
              "      <td>-0.048540</td>\n",
              "      <td>-0.012108</td>\n",
              "      <td>-0.056628</td>\n",
              "      <td>-0.039981</td>\n",
              "      <td>-0.034419</td>\n",
              "      <td>-0.030321</td>\n",
              "      <td>-0.026917</td>\n",
              "      <td>-0.047560</td>\n",
              "      <td>-0.075619</td>\n",
              "      <td>0.012728</td>\n",
              "      <td>-0.092619</td>\n",
              "      <td>0.009156</td>\n",
              "      <td>0.052593</td>\n",
              "      <td>0.016761</td>\n",
              "      <td>0.006242</td>\n",
              "      <td>0.060279</td>\n",
              "      <td>0.045265</td>\n",
              "      <td>0.100351</td>\n",
              "      <td>0.074628</td>\n",
              "      <td>-0.077011</td>\n",
              "      <td>-0.004467</td>\n",
              "      <td>-0.029406</td>\n",
              "      <td>-0.022527</td>\n",
              "      <td>0.040639</td>\n",
              "      <td>0.017914</td>\n",
              "      <td>-0.030976</td>\n",
              "      <td>-0.009833</td>\n",
              "      <td>0.031153</td>\n",
              "      <td>0.063423</td>\n",
              "      <td>-0.075497</td>\n",
              "      <td>0.039019</td>\n",
              "      <td>-0.066110</td>\n",
              "      <td>-0.044073</td>\n",
              "      <td>-0.022280</td>\n",
              "      <td>-0.048912</td>\n",
              "      <td>0.043776</td>\n",
              "      <td>...</td>\n",
              "      <td>-0.055137</td>\n",
              "      <td>-0.027894</td>\n",
              "      <td>0.012977</td>\n",
              "      <td>0.021505</td>\n",
              "      <td>0.007632</td>\n",
              "      <td>-0.005122</td>\n",
              "      <td>0.019104</td>\n",
              "      <td>-0.032691</td>\n",
              "      <td>-0.003106</td>\n",
              "      <td>0.090437</td>\n",
              "      <td>0.071537</td>\n",
              "      <td>0.016522</td>\n",
              "      <td>0.051937</td>\n",
              "      <td>0.013511</td>\n",
              "      <td>0.063138</td>\n",
              "      <td>-0.090772</td>\n",
              "      <td>-0.029901</td>\n",
              "      <td>0.080202</td>\n",
              "      <td>0.016331</td>\n",
              "      <td>-0.036264</td>\n",
              "      <td>-0.006395</td>\n",
              "      <td>-0.064492</td>\n",
              "      <td>0.048998</td>\n",
              "      <td>0.013739</td>\n",
              "      <td>-0.040107</td>\n",
              "      <td>-0.021306</td>\n",
              "      <td>0.050751</td>\n",
              "      <td>-0.003735</td>\n",
              "      <td>-0.041972</td>\n",
              "      <td>-0.000626</td>\n",
              "      <td>-0.089578</td>\n",
              "      <td>0.018679</td>\n",
              "      <td>0.061766</td>\n",
              "      <td>-0.019972</td>\n",
              "      <td>-0.077222</td>\n",
              "      <td>0.031832</td>\n",
              "      <td>-0.029841</td>\n",
              "      <td>0.081567</td>\n",
              "      <td>0.045708</td>\n",
              "      <td>0.065206</td>\n",
              "    </tr>\n",
              "    <tr>\n",
              "      <th>2</th>\n",
              "      <td>0.107151</td>\n",
              "      <td>0.016580</td>\n",
              "      <td>-0.046364</td>\n",
              "      <td>-0.013345</td>\n",
              "      <td>-0.059200</td>\n",
              "      <td>0.005308</td>\n",
              "      <td>0.014529</td>\n",
              "      <td>0.020104</td>\n",
              "      <td>0.036608</td>\n",
              "      <td>-0.042773</td>\n",
              "      <td>0.005622</td>\n",
              "      <td>0.045505</td>\n",
              "      <td>-0.010229</td>\n",
              "      <td>0.001458</td>\n",
              "      <td>-0.069961</td>\n",
              "      <td>-0.050639</td>\n",
              "      <td>0.043332</td>\n",
              "      <td>-0.050746</td>\n",
              "      <td>-0.083885</td>\n",
              "      <td>0.018574</td>\n",
              "      <td>-0.027424</td>\n",
              "      <td>0.103646</td>\n",
              "      <td>-0.003071</td>\n",
              "      <td>-0.005237</td>\n",
              "      <td>0.045819</td>\n",
              "      <td>-0.007562</td>\n",
              "      <td>-0.057442</td>\n",
              "      <td>0.015487</td>\n",
              "      <td>0.001866</td>\n",
              "      <td>0.043920</td>\n",
              "      <td>0.017178</td>\n",
              "      <td>0.046638</td>\n",
              "      <td>-0.004360</td>\n",
              "      <td>-0.063209</td>\n",
              "      <td>0.007861</td>\n",
              "      <td>-0.065779</td>\n",
              "      <td>-0.026756</td>\n",
              "      <td>0.025221</td>\n",
              "      <td>0.044173</td>\n",
              "      <td>-0.005754</td>\n",
              "      <td>...</td>\n",
              "      <td>0.048164</td>\n",
              "      <td>-0.040121</td>\n",
              "      <td>0.021846</td>\n",
              "      <td>0.004769</td>\n",
              "      <td>-0.036285</td>\n",
              "      <td>-0.058329</td>\n",
              "      <td>0.001414</td>\n",
              "      <td>0.082005</td>\n",
              "      <td>-0.000766</td>\n",
              "      <td>0.102919</td>\n",
              "      <td>-0.024877</td>\n",
              "      <td>0.003432</td>\n",
              "      <td>0.007149</td>\n",
              "      <td>0.025854</td>\n",
              "      <td>0.027951</td>\n",
              "      <td>-0.097248</td>\n",
              "      <td>0.000298</td>\n",
              "      <td>0.023826</td>\n",
              "      <td>0.004917</td>\n",
              "      <td>0.025785</td>\n",
              "      <td>-0.042976</td>\n",
              "      <td>-0.003996</td>\n",
              "      <td>-0.013786</td>\n",
              "      <td>0.035191</td>\n",
              "      <td>-0.010489</td>\n",
              "      <td>-0.006627</td>\n",
              "      <td>-0.090794</td>\n",
              "      <td>-0.073268</td>\n",
              "      <td>-0.087622</td>\n",
              "      <td>-0.062105</td>\n",
              "      <td>-0.083430</td>\n",
              "      <td>-0.010339</td>\n",
              "      <td>0.067203</td>\n",
              "      <td>-0.052454</td>\n",
              "      <td>0.019776</td>\n",
              "      <td>-0.033407</td>\n",
              "      <td>-0.011007</td>\n",
              "      <td>0.072055</td>\n",
              "      <td>0.001881</td>\n",
              "      <td>0.010075</td>\n",
              "    </tr>\n",
              "    <tr>\n",
              "      <th>3</th>\n",
              "      <td>0.097561</td>\n",
              "      <td>-0.000109</td>\n",
              "      <td>0.000213</td>\n",
              "      <td>0.063176</td>\n",
              "      <td>-0.057804</td>\n",
              "      <td>0.022388</td>\n",
              "      <td>0.010007</td>\n",
              "      <td>-0.010963</td>\n",
              "      <td>-0.001497</td>\n",
              "      <td>-0.050864</td>\n",
              "      <td>0.040377</td>\n",
              "      <td>0.057871</td>\n",
              "      <td>-0.059007</td>\n",
              "      <td>0.019993</td>\n",
              "      <td>-0.054038</td>\n",
              "      <td>-0.064097</td>\n",
              "      <td>0.034695</td>\n",
              "      <td>-0.058571</td>\n",
              "      <td>-0.073972</td>\n",
              "      <td>0.014602</td>\n",
              "      <td>-0.029369</td>\n",
              "      <td>0.088320</td>\n",
              "      <td>0.073536</td>\n",
              "      <td>0.001778</td>\n",
              "      <td>0.016709</td>\n",
              "      <td>-0.040224</td>\n",
              "      <td>-0.061981</td>\n",
              "      <td>0.015390</td>\n",
              "      <td>0.013797</td>\n",
              "      <td>0.007169</td>\n",
              "      <td>0.016525</td>\n",
              "      <td>0.022672</td>\n",
              "      <td>0.010047</td>\n",
              "      <td>-0.063398</td>\n",
              "      <td>-0.020424</td>\n",
              "      <td>-0.075070</td>\n",
              "      <td>-0.057019</td>\n",
              "      <td>0.039458</td>\n",
              "      <td>0.048060</td>\n",
              "      <td>-0.017432</td>\n",
              "      <td>...</td>\n",
              "      <td>0.058044</td>\n",
              "      <td>-0.009911</td>\n",
              "      <td>0.022132</td>\n",
              "      <td>0.015215</td>\n",
              "      <td>-0.060926</td>\n",
              "      <td>-0.068752</td>\n",
              "      <td>-0.004318</td>\n",
              "      <td>0.070004</td>\n",
              "      <td>0.000758</td>\n",
              "      <td>0.083078</td>\n",
              "      <td>-0.069775</td>\n",
              "      <td>0.006309</td>\n",
              "      <td>-0.011590</td>\n",
              "      <td>0.028734</td>\n",
              "      <td>0.013294</td>\n",
              "      <td>-0.083825</td>\n",
              "      <td>0.044389</td>\n",
              "      <td>0.022830</td>\n",
              "      <td>0.056599</td>\n",
              "      <td>0.003340</td>\n",
              "      <td>-0.054178</td>\n",
              "      <td>-0.039055</td>\n",
              "      <td>0.017346</td>\n",
              "      <td>-0.009694</td>\n",
              "      <td>0.006369</td>\n",
              "      <td>0.026033</td>\n",
              "      <td>-0.077443</td>\n",
              "      <td>-0.065648</td>\n",
              "      <td>-0.058108</td>\n",
              "      <td>-0.023133</td>\n",
              "      <td>-0.082417</td>\n",
              "      <td>-0.014277</td>\n",
              "      <td>0.077998</td>\n",
              "      <td>-0.059772</td>\n",
              "      <td>0.037547</td>\n",
              "      <td>0.010761</td>\n",
              "      <td>0.056996</td>\n",
              "      <td>0.051580</td>\n",
              "      <td>-0.037897</td>\n",
              "      <td>-0.034078</td>\n",
              "    </tr>\n",
              "    <tr>\n",
              "      <th>4</th>\n",
              "      <td>0.111851</td>\n",
              "      <td>-0.010639</td>\n",
              "      <td>-0.046339</td>\n",
              "      <td>0.011104</td>\n",
              "      <td>-0.073496</td>\n",
              "      <td>0.009788</td>\n",
              "      <td>0.025644</td>\n",
              "      <td>0.045766</td>\n",
              "      <td>0.048126</td>\n",
              "      <td>-0.043539</td>\n",
              "      <td>-0.009803</td>\n",
              "      <td>0.059885</td>\n",
              "      <td>-0.059836</td>\n",
              "      <td>-0.005724</td>\n",
              "      <td>-0.068129</td>\n",
              "      <td>-0.054173</td>\n",
              "      <td>0.038008</td>\n",
              "      <td>-0.036691</td>\n",
              "      <td>-0.096663</td>\n",
              "      <td>0.014099</td>\n",
              "      <td>-0.021192</td>\n",
              "      <td>0.103184</td>\n",
              "      <td>0.028845</td>\n",
              "      <td>-0.000189</td>\n",
              "      <td>0.033472</td>\n",
              "      <td>-0.007168</td>\n",
              "      <td>-0.059707</td>\n",
              "      <td>0.005258</td>\n",
              "      <td>-0.017568</td>\n",
              "      <td>0.007101</td>\n",
              "      <td>-0.004466</td>\n",
              "      <td>0.036735</td>\n",
              "      <td>-0.007338</td>\n",
              "      <td>-0.045794</td>\n",
              "      <td>0.007524</td>\n",
              "      <td>-0.042120</td>\n",
              "      <td>-0.022910</td>\n",
              "      <td>0.022810</td>\n",
              "      <td>0.063355</td>\n",
              "      <td>-0.019481</td>\n",
              "      <td>...</td>\n",
              "      <td>0.044028</td>\n",
              "      <td>-0.032790</td>\n",
              "      <td>0.043219</td>\n",
              "      <td>-0.001624</td>\n",
              "      <td>-0.042037</td>\n",
              "      <td>-0.052744</td>\n",
              "      <td>-0.031460</td>\n",
              "      <td>0.080702</td>\n",
              "      <td>0.028147</td>\n",
              "      <td>0.105534</td>\n",
              "      <td>-0.043647</td>\n",
              "      <td>0.001934</td>\n",
              "      <td>0.006691</td>\n",
              "      <td>0.033956</td>\n",
              "      <td>0.035109</td>\n",
              "      <td>-0.095423</td>\n",
              "      <td>0.005830</td>\n",
              "      <td>0.025067</td>\n",
              "      <td>0.010496</td>\n",
              "      <td>0.030909</td>\n",
              "      <td>-0.044556</td>\n",
              "      <td>-0.038586</td>\n",
              "      <td>-0.013402</td>\n",
              "      <td>0.012418</td>\n",
              "      <td>0.011574</td>\n",
              "      <td>0.004370</td>\n",
              "      <td>-0.092701</td>\n",
              "      <td>-0.077090</td>\n",
              "      <td>-0.077219</td>\n",
              "      <td>-0.062734</td>\n",
              "      <td>-0.074070</td>\n",
              "      <td>-0.018187</td>\n",
              "      <td>0.064504</td>\n",
              "      <td>-0.057260</td>\n",
              "      <td>0.026545</td>\n",
              "      <td>-0.024064</td>\n",
              "      <td>0.007206</td>\n",
              "      <td>0.070688</td>\n",
              "      <td>-0.012215</td>\n",
              "      <td>-0.025163</td>\n",
              "    </tr>\n",
              "    <tr>\n",
              "      <th>...</th>\n",
              "      <td>...</td>\n",
              "      <td>...</td>\n",
              "      <td>...</td>\n",
              "      <td>...</td>\n",
              "      <td>...</td>\n",
              "      <td>...</td>\n",
              "      <td>...</td>\n",
              "      <td>...</td>\n",
              "      <td>...</td>\n",
              "      <td>...</td>\n",
              "      <td>...</td>\n",
              "      <td>...</td>\n",
              "      <td>...</td>\n",
              "      <td>...</td>\n",
              "      <td>...</td>\n",
              "      <td>...</td>\n",
              "      <td>...</td>\n",
              "      <td>...</td>\n",
              "      <td>...</td>\n",
              "      <td>...</td>\n",
              "      <td>...</td>\n",
              "      <td>...</td>\n",
              "      <td>...</td>\n",
              "      <td>...</td>\n",
              "      <td>...</td>\n",
              "      <td>...</td>\n",
              "      <td>...</td>\n",
              "      <td>...</td>\n",
              "      <td>...</td>\n",
              "      <td>...</td>\n",
              "      <td>...</td>\n",
              "      <td>...</td>\n",
              "      <td>...</td>\n",
              "      <td>...</td>\n",
              "      <td>...</td>\n",
              "      <td>...</td>\n",
              "      <td>...</td>\n",
              "      <td>...</td>\n",
              "      <td>...</td>\n",
              "      <td>...</td>\n",
              "      <td>...</td>\n",
              "      <td>...</td>\n",
              "      <td>...</td>\n",
              "      <td>...</td>\n",
              "      <td>...</td>\n",
              "      <td>...</td>\n",
              "      <td>...</td>\n",
              "      <td>...</td>\n",
              "      <td>...</td>\n",
              "      <td>...</td>\n",
              "      <td>...</td>\n",
              "      <td>...</td>\n",
              "      <td>...</td>\n",
              "      <td>...</td>\n",
              "      <td>...</td>\n",
              "      <td>...</td>\n",
              "      <td>...</td>\n",
              "      <td>...</td>\n",
              "      <td>...</td>\n",
              "      <td>...</td>\n",
              "      <td>...</td>\n",
              "      <td>...</td>\n",
              "      <td>...</td>\n",
              "      <td>...</td>\n",
              "      <td>...</td>\n",
              "      <td>...</td>\n",
              "      <td>...</td>\n",
              "      <td>...</td>\n",
              "      <td>...</td>\n",
              "      <td>...</td>\n",
              "      <td>...</td>\n",
              "      <td>...</td>\n",
              "      <td>...</td>\n",
              "      <td>...</td>\n",
              "      <td>...</td>\n",
              "      <td>...</td>\n",
              "      <td>...</td>\n",
              "      <td>...</td>\n",
              "      <td>...</td>\n",
              "      <td>...</td>\n",
              "      <td>...</td>\n",
              "    </tr>\n",
              "    <tr>\n",
              "      <th>14177</th>\n",
              "      <td>0.114519</td>\n",
              "      <td>-0.037560</td>\n",
              "      <td>-0.067587</td>\n",
              "      <td>-0.007561</td>\n",
              "      <td>-0.003683</td>\n",
              "      <td>0.034024</td>\n",
              "      <td>0.006047</td>\n",
              "      <td>0.068287</td>\n",
              "      <td>0.034638</td>\n",
              "      <td>0.019373</td>\n",
              "      <td>0.027569</td>\n",
              "      <td>-0.029022</td>\n",
              "      <td>-0.055992</td>\n",
              "      <td>0.036752</td>\n",
              "      <td>-0.037854</td>\n",
              "      <td>-0.003318</td>\n",
              "      <td>0.011738</td>\n",
              "      <td>-0.010136</td>\n",
              "      <td>0.003229</td>\n",
              "      <td>0.055138</td>\n",
              "      <td>-0.005444</td>\n",
              "      <td>0.111020</td>\n",
              "      <td>0.010457</td>\n",
              "      <td>-0.026701</td>\n",
              "      <td>0.003190</td>\n",
              "      <td>0.054678</td>\n",
              "      <td>-0.021617</td>\n",
              "      <td>-0.062398</td>\n",
              "      <td>-0.033748</td>\n",
              "      <td>0.021723</td>\n",
              "      <td>0.051347</td>\n",
              "      <td>0.059172</td>\n",
              "      <td>0.073345</td>\n",
              "      <td>-0.060052</td>\n",
              "      <td>0.073776</td>\n",
              "      <td>-0.081306</td>\n",
              "      <td>0.040167</td>\n",
              "      <td>-0.036189</td>\n",
              "      <td>0.018868</td>\n",
              "      <td>-0.041424</td>\n",
              "      <td>...</td>\n",
              "      <td>-0.015738</td>\n",
              "      <td>0.065579</td>\n",
              "      <td>0.048637</td>\n",
              "      <td>-0.026114</td>\n",
              "      <td>-0.054057</td>\n",
              "      <td>-0.040564</td>\n",
              "      <td>0.017198</td>\n",
              "      <td>0.068989</td>\n",
              "      <td>0.007431</td>\n",
              "      <td>0.103002</td>\n",
              "      <td>0.049416</td>\n",
              "      <td>0.006469</td>\n",
              "      <td>-0.046296</td>\n",
              "      <td>0.013762</td>\n",
              "      <td>0.057837</td>\n",
              "      <td>-0.096477</td>\n",
              "      <td>-0.004677</td>\n",
              "      <td>-0.007760</td>\n",
              "      <td>0.009273</td>\n",
              "      <td>-0.049736</td>\n",
              "      <td>-0.008128</td>\n",
              "      <td>0.063623</td>\n",
              "      <td>-0.047402</td>\n",
              "      <td>-0.064234</td>\n",
              "      <td>-0.071776</td>\n",
              "      <td>0.007032</td>\n",
              "      <td>0.016292</td>\n",
              "      <td>0.035651</td>\n",
              "      <td>-0.074694</td>\n",
              "      <td>0.073714</td>\n",
              "      <td>-0.083690</td>\n",
              "      <td>0.012492</td>\n",
              "      <td>0.005769</td>\n",
              "      <td>0.017996</td>\n",
              "      <td>-0.011596</td>\n",
              "      <td>0.003614</td>\n",
              "      <td>-0.044496</td>\n",
              "      <td>0.018044</td>\n",
              "      <td>-0.027267</td>\n",
              "      <td>-0.020720</td>\n",
              "    </tr>\n",
              "    <tr>\n",
              "      <th>14178</th>\n",
              "      <td>0.086699</td>\n",
              "      <td>-0.042426</td>\n",
              "      <td>-0.073124</td>\n",
              "      <td>0.056531</td>\n",
              "      <td>0.006817</td>\n",
              "      <td>0.045998</td>\n",
              "      <td>-0.053248</td>\n",
              "      <td>-0.004993</td>\n",
              "      <td>-0.050505</td>\n",
              "      <td>-0.080621</td>\n",
              "      <td>-0.018059</td>\n",
              "      <td>-0.071854</td>\n",
              "      <td>-0.062022</td>\n",
              "      <td>-0.059974</td>\n",
              "      <td>-0.017381</td>\n",
              "      <td>-0.045263</td>\n",
              "      <td>0.039646</td>\n",
              "      <td>0.029581</td>\n",
              "      <td>0.078927</td>\n",
              "      <td>0.011811</td>\n",
              "      <td>0.046637</td>\n",
              "      <td>0.084802</td>\n",
              "      <td>-0.059408</td>\n",
              "      <td>-0.003256</td>\n",
              "      <td>-0.023829</td>\n",
              "      <td>-0.052182</td>\n",
              "      <td>0.027176</td>\n",
              "      <td>-0.030846</td>\n",
              "      <td>0.063186</td>\n",
              "      <td>0.006931</td>\n",
              "      <td>0.058966</td>\n",
              "      <td>-0.052779</td>\n",
              "      <td>0.012055</td>\n",
              "      <td>-0.080709</td>\n",
              "      <td>0.077028</td>\n",
              "      <td>-0.061789</td>\n",
              "      <td>-0.018041</td>\n",
              "      <td>0.039140</td>\n",
              "      <td>0.042866</td>\n",
              "      <td>0.004387</td>\n",
              "      <td>...</td>\n",
              "      <td>-0.058778</td>\n",
              "      <td>-0.026207</td>\n",
              "      <td>0.037921</td>\n",
              "      <td>0.047161</td>\n",
              "      <td>-0.008772</td>\n",
              "      <td>-0.028160</td>\n",
              "      <td>-0.030875</td>\n",
              "      <td>0.023366</td>\n",
              "      <td>0.078181</td>\n",
              "      <td>0.076779</td>\n",
              "      <td>-0.042546</td>\n",
              "      <td>-0.034835</td>\n",
              "      <td>-0.080859</td>\n",
              "      <td>0.037233</td>\n",
              "      <td>-0.006616</td>\n",
              "      <td>-0.072806</td>\n",
              "      <td>0.002248</td>\n",
              "      <td>0.017772</td>\n",
              "      <td>-0.019054</td>\n",
              "      <td>-0.072406</td>\n",
              "      <td>0.062450</td>\n",
              "      <td>-0.049893</td>\n",
              "      <td>-0.018396</td>\n",
              "      <td>-0.061672</td>\n",
              "      <td>-0.074964</td>\n",
              "      <td>-0.071328</td>\n",
              "      <td>0.057294</td>\n",
              "      <td>0.073925</td>\n",
              "      <td>-0.083632</td>\n",
              "      <td>0.073257</td>\n",
              "      <td>-0.074920</td>\n",
              "      <td>0.003922</td>\n",
              "      <td>-0.014474</td>\n",
              "      <td>-0.003743</td>\n",
              "      <td>0.069165</td>\n",
              "      <td>0.032050</td>\n",
              "      <td>-0.000911</td>\n",
              "      <td>-0.016283</td>\n",
              "      <td>-0.020462</td>\n",
              "      <td>-0.002006</td>\n",
              "    </tr>\n",
              "    <tr>\n",
              "      <th>14179</th>\n",
              "      <td>0.115399</td>\n",
              "      <td>0.031699</td>\n",
              "      <td>0.007480</td>\n",
              "      <td>0.038256</td>\n",
              "      <td>-0.042110</td>\n",
              "      <td>0.066085</td>\n",
              "      <td>-0.054786</td>\n",
              "      <td>0.025716</td>\n",
              "      <td>0.005224</td>\n",
              "      <td>-0.034606</td>\n",
              "      <td>-0.009812</td>\n",
              "      <td>-0.011317</td>\n",
              "      <td>-0.067708</td>\n",
              "      <td>0.009862</td>\n",
              "      <td>-0.053527</td>\n",
              "      <td>0.012846</td>\n",
              "      <td>0.004657</td>\n",
              "      <td>-0.028380</td>\n",
              "      <td>0.056163</td>\n",
              "      <td>0.088643</td>\n",
              "      <td>0.038194</td>\n",
              "      <td>0.104152</td>\n",
              "      <td>0.036951</td>\n",
              "      <td>0.029449</td>\n",
              "      <td>-0.033846</td>\n",
              "      <td>0.046274</td>\n",
              "      <td>0.039218</td>\n",
              "      <td>0.001592</td>\n",
              "      <td>0.067877</td>\n",
              "      <td>0.043236</td>\n",
              "      <td>0.065026</td>\n",
              "      <td>0.055336</td>\n",
              "      <td>0.052961</td>\n",
              "      <td>-0.058736</td>\n",
              "      <td>-0.013917</td>\n",
              "      <td>-0.082323</td>\n",
              "      <td>0.035116</td>\n",
              "      <td>-0.017605</td>\n",
              "      <td>-0.002485</td>\n",
              "      <td>-0.013986</td>\n",
              "      <td>...</td>\n",
              "      <td>-0.061854</td>\n",
              "      <td>0.039125</td>\n",
              "      <td>0.051055</td>\n",
              "      <td>0.084565</td>\n",
              "      <td>-0.051407</td>\n",
              "      <td>0.047910</td>\n",
              "      <td>0.004935</td>\n",
              "      <td>0.035160</td>\n",
              "      <td>0.098785</td>\n",
              "      <td>0.049008</td>\n",
              "      <td>-0.009677</td>\n",
              "      <td>-0.026727</td>\n",
              "      <td>-0.069844</td>\n",
              "      <td>-0.007248</td>\n",
              "      <td>0.028872</td>\n",
              "      <td>-0.075125</td>\n",
              "      <td>-0.041836</td>\n",
              "      <td>0.016787</td>\n",
              "      <td>-0.022724</td>\n",
              "      <td>0.018375</td>\n",
              "      <td>0.034372</td>\n",
              "      <td>-0.025874</td>\n",
              "      <td>0.070051</td>\n",
              "      <td>-0.076374</td>\n",
              "      <td>-0.014509</td>\n",
              "      <td>-0.060068</td>\n",
              "      <td>0.047152</td>\n",
              "      <td>-0.005388</td>\n",
              "      <td>-0.058358</td>\n",
              "      <td>0.018743</td>\n",
              "      <td>-0.090861</td>\n",
              "      <td>0.018163</td>\n",
              "      <td>0.045280</td>\n",
              "      <td>0.050760</td>\n",
              "      <td>0.027146</td>\n",
              "      <td>-0.018747</td>\n",
              "      <td>-0.016854</td>\n",
              "      <td>0.020008</td>\n",
              "      <td>-0.014431</td>\n",
              "      <td>0.061416</td>\n",
              "    </tr>\n",
              "    <tr>\n",
              "      <th>14180</th>\n",
              "      <td>0.101206</td>\n",
              "      <td>-0.012917</td>\n",
              "      <td>-0.008457</td>\n",
              "      <td>0.013075</td>\n",
              "      <td>0.003694</td>\n",
              "      <td>0.067312</td>\n",
              "      <td>-0.067262</td>\n",
              "      <td>0.019491</td>\n",
              "      <td>-0.051321</td>\n",
              "      <td>-0.060281</td>\n",
              "      <td>-0.046880</td>\n",
              "      <td>-0.037392</td>\n",
              "      <td>-0.078372</td>\n",
              "      <td>-0.016513</td>\n",
              "      <td>-0.081151</td>\n",
              "      <td>-0.050436</td>\n",
              "      <td>0.018108</td>\n",
              "      <td>-0.011823</td>\n",
              "      <td>0.060354</td>\n",
              "      <td>0.078302</td>\n",
              "      <td>0.032471</td>\n",
              "      <td>0.090805</td>\n",
              "      <td>0.010156</td>\n",
              "      <td>0.038951</td>\n",
              "      <td>-0.048170</td>\n",
              "      <td>0.006778</td>\n",
              "      <td>0.037327</td>\n",
              "      <td>0.000666</td>\n",
              "      <td>0.060978</td>\n",
              "      <td>0.010663</td>\n",
              "      <td>0.049500</td>\n",
              "      <td>0.038339</td>\n",
              "      <td>0.045082</td>\n",
              "      <td>-0.079559</td>\n",
              "      <td>0.024441</td>\n",
              "      <td>-0.089748</td>\n",
              "      <td>-0.001594</td>\n",
              "      <td>-0.021185</td>\n",
              "      <td>0.019724</td>\n",
              "      <td>-0.019583</td>\n",
              "      <td>...</td>\n",
              "      <td>-0.065683</td>\n",
              "      <td>-0.000971</td>\n",
              "      <td>0.032604</td>\n",
              "      <td>0.072856</td>\n",
              "      <td>-0.023595</td>\n",
              "      <td>0.060235</td>\n",
              "      <td>-0.007216</td>\n",
              "      <td>0.007211</td>\n",
              "      <td>0.078985</td>\n",
              "      <td>0.050912</td>\n",
              "      <td>-0.034800</td>\n",
              "      <td>0.001803</td>\n",
              "      <td>-0.063612</td>\n",
              "      <td>0.048375</td>\n",
              "      <td>0.048771</td>\n",
              "      <td>-0.070410</td>\n",
              "      <td>-0.024837</td>\n",
              "      <td>0.004594</td>\n",
              "      <td>-0.030167</td>\n",
              "      <td>-0.053579</td>\n",
              "      <td>0.068920</td>\n",
              "      <td>-0.046486</td>\n",
              "      <td>0.041314</td>\n",
              "      <td>-0.076585</td>\n",
              "      <td>-0.024438</td>\n",
              "      <td>-0.081659</td>\n",
              "      <td>0.052775</td>\n",
              "      <td>0.039459</td>\n",
              "      <td>-0.049612</td>\n",
              "      <td>-0.010730</td>\n",
              "      <td>-0.074702</td>\n",
              "      <td>0.033810</td>\n",
              "      <td>0.030419</td>\n",
              "      <td>0.014688</td>\n",
              "      <td>0.037114</td>\n",
              "      <td>-0.013459</td>\n",
              "      <td>-0.049790</td>\n",
              "      <td>0.057384</td>\n",
              "      <td>-0.054940</td>\n",
              "      <td>0.033698</td>\n",
              "    </tr>\n",
              "    <tr>\n",
              "      <th>14181</th>\n",
              "      <td>0.105696</td>\n",
              "      <td>-0.048431</td>\n",
              "      <td>0.063513</td>\n",
              "      <td>0.038453</td>\n",
              "      <td>-0.052701</td>\n",
              "      <td>0.018448</td>\n",
              "      <td>0.006954</td>\n",
              "      <td>0.058662</td>\n",
              "      <td>0.011396</td>\n",
              "      <td>-0.033086</td>\n",
              "      <td>-0.057694</td>\n",
              "      <td>0.010501</td>\n",
              "      <td>-0.047608</td>\n",
              "      <td>-0.076991</td>\n",
              "      <td>-0.022899</td>\n",
              "      <td>-0.021258</td>\n",
              "      <td>-0.005731</td>\n",
              "      <td>0.026393</td>\n",
              "      <td>0.034123</td>\n",
              "      <td>0.089397</td>\n",
              "      <td>0.027885</td>\n",
              "      <td>0.101643</td>\n",
              "      <td>-0.046992</td>\n",
              "      <td>-0.024690</td>\n",
              "      <td>0.049859</td>\n",
              "      <td>-0.017173</td>\n",
              "      <td>0.062602</td>\n",
              "      <td>0.006362</td>\n",
              "      <td>0.020997</td>\n",
              "      <td>-0.012553</td>\n",
              "      <td>-0.054240</td>\n",
              "      <td>0.015104</td>\n",
              "      <td>0.057240</td>\n",
              "      <td>-0.064320</td>\n",
              "      <td>0.065918</td>\n",
              "      <td>-0.077660</td>\n",
              "      <td>0.010506</td>\n",
              "      <td>-0.060639</td>\n",
              "      <td>-0.002598</td>\n",
              "      <td>-0.018395</td>\n",
              "      <td>...</td>\n",
              "      <td>-0.046830</td>\n",
              "      <td>-0.015693</td>\n",
              "      <td>0.004480</td>\n",
              "      <td>-0.031665</td>\n",
              "      <td>-0.029379</td>\n",
              "      <td>-0.015249</td>\n",
              "      <td>0.024730</td>\n",
              "      <td>-0.021128</td>\n",
              "      <td>0.004833</td>\n",
              "      <td>0.093818</td>\n",
              "      <td>0.051925</td>\n",
              "      <td>0.003941</td>\n",
              "      <td>-0.056484</td>\n",
              "      <td>-0.044331</td>\n",
              "      <td>0.070755</td>\n",
              "      <td>-0.070690</td>\n",
              "      <td>0.038814</td>\n",
              "      <td>0.067668</td>\n",
              "      <td>0.013715</td>\n",
              "      <td>-0.022407</td>\n",
              "      <td>0.030298</td>\n",
              "      <td>-0.077292</td>\n",
              "      <td>-0.098867</td>\n",
              "      <td>-0.013778</td>\n",
              "      <td>-0.048412</td>\n",
              "      <td>-0.048168</td>\n",
              "      <td>0.015473</td>\n",
              "      <td>0.061693</td>\n",
              "      <td>0.040163</td>\n",
              "      <td>-0.000002</td>\n",
              "      <td>-0.086396</td>\n",
              "      <td>0.033887</td>\n",
              "      <td>-0.002043</td>\n",
              "      <td>0.023696</td>\n",
              "      <td>0.030308</td>\n",
              "      <td>-0.007286</td>\n",
              "      <td>-0.022750</td>\n",
              "      <td>0.063339</td>\n",
              "      <td>0.012206</td>\n",
              "      <td>0.061625</td>\n",
              "    </tr>\n",
              "  </tbody>\n",
              "</table>\n",
              "<p>14182 rows × 512 columns</p>\n",
              "</div>"
            ],
            "text/plain": [
              "            0         1         2    ...       509       510       511\n",
              "0      0.149352 -0.003459 -0.065422  ...  0.086978  0.012901  0.062648\n",
              "1      0.107717 -0.018898 -0.011394  ...  0.081567  0.045708  0.065206\n",
              "2      0.107151  0.016580 -0.046364  ...  0.072055  0.001881  0.010075\n",
              "3      0.097561 -0.000109  0.000213  ...  0.051580 -0.037897 -0.034078\n",
              "4      0.111851 -0.010639 -0.046339  ...  0.070688 -0.012215 -0.025163\n",
              "...         ...       ...       ...  ...       ...       ...       ...\n",
              "14177  0.114519 -0.037560 -0.067587  ...  0.018044 -0.027267 -0.020720\n",
              "14178  0.086699 -0.042426 -0.073124  ... -0.016283 -0.020462 -0.002006\n",
              "14179  0.115399  0.031699  0.007480  ...  0.020008 -0.014431  0.061416\n",
              "14180  0.101206 -0.012917 -0.008457  ...  0.057384 -0.054940  0.033698\n",
              "14181  0.105696 -0.048431  0.063513  ...  0.063339  0.012206  0.061625\n",
              "\n",
              "[14182 rows x 512 columns]"
            ]
          },
          "metadata": {}
        }
      ]
    },
    {
      "cell_type": "code",
      "metadata": {
        "id": "-QhcNUJS66lV"
      },
      "source": [
        "embeddings_df.to_csv(\"embeddings_14000.csv\", index=False)\n",
        "embeddings_df.to_csv(\"embeddings_index_14000.csv\", index=True)"
      ],
      "execution_count": null,
      "outputs": []
    },
    {
      "cell_type": "code",
      "metadata": {
        "id": "LJrjwQIEafKM"
      },
      "source": [
        "embeddings_bert = pd.read_csv(\"embeddings_bert.csv\")\n",
        "embeddings_bert"
      ],
      "execution_count": null,
      "outputs": []
    },
    {
      "cell_type": "markdown",
      "metadata": {
        "id": "ldRjj_ee5J9E"
      },
      "source": [
        "###### Load embeddings and concatenate to nrc lexicon"
      ]
    },
    {
      "cell_type": "code",
      "metadata": {
        "id": "qRoIwGnNiOyo"
      },
      "source": [
        "%cd \n",
        "%cd /content/drive/MyDrive/emotion_flow_thesis/nrclexicon/\n",
        "import pandas as pd\n",
        "embeddings = pd.read_csv(\"embeddings.csv\")\n",
        "embeddings"
      ],
      "execution_count": null,
      "outputs": []
    },
    {
      "cell_type": "code",
      "metadata": {
        "id": "IiPSyhuZbd2-"
      },
      "source": [
        "# pd.concat([df1, df4], axis=1).reindex(df1.index)\n",
        "emolex_df_with_embeddings = pd.concat([emolex_df_short, embeddings], axis=1) \n",
        "emolex_df_with_embeddings"
      ],
      "execution_count": null,
      "outputs": []
    },
    {
      "cell_type": "markdown",
      "metadata": {
        "id": "EiWDC2_wcX8P"
      },
      "source": [
        "###### Take all words with high cosing similarity for a word"
      ]
    },
    {
      "cell_type": "code",
      "metadata": {
        "id": "Zfu73fJWewzA"
      },
      "source": [
        "list_of_string_integers_0_511 = []\n",
        "for i in range(512):\n",
        "  list_of_string_integers_0_511.append(str(i))\n"
      ],
      "execution_count": null,
      "outputs": []
    },
    {
      "cell_type": "code",
      "metadata": {
        "id": "VBILjJ-qcSqr",
        "colab": {
          "base_uri": "https://localhost:8080/",
          "height": 1000
        },
        "outputId": "18df84ce-140a-40f0-e394-466d279e1523"
      },
      "source": [
        "test_word = \"dementieren\"\n",
        "embedding_test_word = np.array(model_1(test_word))\n",
        "embedding_test_word = list(embedding_test_word[0])\n",
        "count = 0\n",
        "for index, row in emolex_df_with_embeddings.iterrows():\n",
        "    word_in_lexicon = row[\"word\"]\n",
        "    word_embedding = row[list_of_string_integers_0_511]\n",
        "    word_embedding = list(word_embedding)\n",
        "    \n",
        "    cos_sim = 1 - spatial.distance.cosine(embedding_test_word, word_embedding)\n",
        "    if cos_sim > 0.80:\n",
        "      display(count)\n",
        "      display(word_in_lexicon)\n",
        "      display(cos_sim)\n",
        "      count += 1\n",
        "      \n",
        "\n"
      ],
      "execution_count": null,
      "outputs": [
        {
          "output_type": "display_data",
          "data": {
            "text/plain": [
              "0"
            ]
          },
          "metadata": {}
        },
        {
          "output_type": "display_data",
          "data": {
            "application/vnd.google.colaboratory.intrinsic+json": {
              "type": "string"
            },
            "text/plain": [
              "'thundering'"
            ]
          },
          "metadata": {}
        },
        {
          "output_type": "display_data",
          "data": {
            "text/plain": [
              "0.8078270340913486"
            ]
          },
          "metadata": {}
        },
        {
          "output_type": "display_data",
          "data": {
            "text/plain": [
              "1"
            ]
          },
          "metadata": {}
        },
        {
          "output_type": "display_data",
          "data": {
            "application/vnd.google.colaboratory.intrinsic+json": {
              "type": "string"
            },
            "text/plain": [
              "'ranting'"
            ]
          },
          "metadata": {}
        },
        {
          "output_type": "display_data",
          "data": {
            "text/plain": [
              "0.8397836555271336"
            ]
          },
          "metadata": {}
        },
        {
          "output_type": "display_data",
          "data": {
            "text/plain": [
              "2"
            ]
          },
          "metadata": {}
        },
        {
          "output_type": "display_data",
          "data": {
            "application/vnd.google.colaboratory.intrinsic+json": {
              "type": "string"
            },
            "text/plain": [
              "'detract'"
            ]
          },
          "metadata": {}
        },
        {
          "output_type": "display_data",
          "data": {
            "text/plain": [
              "0.8306142874454722"
            ]
          },
          "metadata": {}
        },
        {
          "output_type": "display_data",
          "data": {
            "text/plain": [
              "3"
            ]
          },
          "metadata": {}
        },
        {
          "output_type": "display_data",
          "data": {
            "application/vnd.google.colaboratory.intrinsic+json": {
              "type": "string"
            },
            "text/plain": [
              "'denying'"
            ]
          },
          "metadata": {}
        },
        {
          "output_type": "display_data",
          "data": {
            "text/plain": [
              "0.8402614634532988"
            ]
          },
          "metadata": {}
        },
        {
          "output_type": "display_data",
          "data": {
            "text/plain": [
              "4"
            ]
          },
          "metadata": {}
        },
        {
          "output_type": "display_data",
          "data": {
            "application/vnd.google.colaboratory.intrinsic+json": {
              "type": "string"
            },
            "text/plain": [
              "'aversation'"
            ]
          },
          "metadata": {}
        },
        {
          "output_type": "display_data",
          "data": {
            "text/plain": [
              "0.8321045697550052"
            ]
          },
          "metadata": {}
        },
        {
          "output_type": "display_data",
          "data": {
            "text/plain": [
              "5"
            ]
          },
          "metadata": {}
        },
        {
          "output_type": "display_data",
          "data": {
            "application/vnd.google.colaboratory.intrinsic+json": {
              "type": "string"
            },
            "text/plain": [
              "'lament'"
            ]
          },
          "metadata": {}
        },
        {
          "output_type": "display_data",
          "data": {
            "text/plain": [
              "0.8431698412061546"
            ]
          },
          "metadata": {}
        },
        {
          "output_type": "display_data",
          "data": {
            "text/plain": [
              "6"
            ]
          },
          "metadata": {}
        },
        {
          "output_type": "display_data",
          "data": {
            "application/vnd.google.colaboratory.intrinsic+json": {
              "type": "string"
            },
            "text/plain": [
              "'encroachment'"
            ]
          },
          "metadata": {}
        },
        {
          "output_type": "display_data",
          "data": {
            "text/plain": [
              "0.8377134279473546"
            ]
          },
          "metadata": {}
        },
        {
          "output_type": "display_data",
          "data": {
            "text/plain": [
              "7"
            ]
          },
          "metadata": {}
        },
        {
          "output_type": "display_data",
          "data": {
            "application/vnd.google.colaboratory.intrinsic+json": {
              "type": "string"
            },
            "text/plain": [
              "'demented'"
            ]
          },
          "metadata": {}
        },
        {
          "output_type": "display_data",
          "data": {
            "text/plain": [
              "0.924067766292547"
            ]
          },
          "metadata": {}
        },
        {
          "output_type": "display_data",
          "data": {
            "text/plain": [
              "8"
            ]
          },
          "metadata": {}
        },
        {
          "output_type": "display_data",
          "data": {
            "application/vnd.google.colaboratory.intrinsic+json": {
              "type": "string"
            },
            "text/plain": [
              "'thundering'"
            ]
          },
          "metadata": {}
        },
        {
          "output_type": "display_data",
          "data": {
            "text/plain": [
              "0.8078270340913486"
            ]
          },
          "metadata": {}
        },
        {
          "output_type": "display_data",
          "data": {
            "text/plain": [
              "9"
            ]
          },
          "metadata": {}
        },
        {
          "output_type": "display_data",
          "data": {
            "application/vnd.google.colaboratory.intrinsic+json": {
              "type": "string"
            },
            "text/plain": [
              "'afflict'"
            ]
          },
          "metadata": {}
        },
        {
          "output_type": "display_data",
          "data": {
            "text/plain": [
              "0.8170912939141188"
            ]
          },
          "metadata": {}
        },
        {
          "output_type": "display_data",
          "data": {
            "text/plain": [
              "10"
            ]
          },
          "metadata": {}
        },
        {
          "output_type": "display_data",
          "data": {
            "application/vnd.google.colaboratory.intrinsic+json": {
              "type": "string"
            },
            "text/plain": [
              "'destitute'"
            ]
          },
          "metadata": {}
        },
        {
          "output_type": "display_data",
          "data": {
            "text/plain": [
              "0.802283467863195"
            ]
          },
          "metadata": {}
        },
        {
          "output_type": "display_data",
          "data": {
            "text/plain": [
              "11"
            ]
          },
          "metadata": {}
        },
        {
          "output_type": "display_data",
          "data": {
            "application/vnd.google.colaboratory.intrinsic+json": {
              "type": "string"
            },
            "text/plain": [
              "'predicament'"
            ]
          },
          "metadata": {}
        },
        {
          "output_type": "display_data",
          "data": {
            "text/plain": [
              "0.8150580672467553"
            ]
          },
          "metadata": {}
        },
        {
          "output_type": "display_data",
          "data": {
            "text/plain": [
              "12"
            ]
          },
          "metadata": {}
        },
        {
          "output_type": "display_data",
          "data": {
            "application/vnd.google.colaboratory.intrinsic+json": {
              "type": "string"
            },
            "text/plain": [
              "'lament'"
            ]
          },
          "metadata": {}
        },
        {
          "output_type": "display_data",
          "data": {
            "text/plain": [
              "0.8431698412061546"
            ]
          },
          "metadata": {}
        },
        {
          "output_type": "display_data",
          "data": {
            "text/plain": [
              "13"
            ]
          },
          "metadata": {}
        },
        {
          "output_type": "display_data",
          "data": {
            "application/vnd.google.colaboratory.intrinsic+json": {
              "type": "string"
            },
            "text/plain": [
              "'retrenchment'"
            ]
          },
          "metadata": {}
        },
        {
          "output_type": "display_data",
          "data": {
            "text/plain": [
              "0.8190087520940913"
            ]
          },
          "metadata": {}
        },
        {
          "output_type": "display_data",
          "data": {
            "text/plain": [
              "14"
            ]
          },
          "metadata": {}
        },
        {
          "output_type": "display_data",
          "data": {
            "application/vnd.google.colaboratory.intrinsic+json": {
              "type": "string"
            },
            "text/plain": [
              "'astonishment'"
            ]
          },
          "metadata": {}
        },
        {
          "output_type": "display_data",
          "data": {
            "text/plain": [
              "0.809961289994111"
            ]
          },
          "metadata": {}
        },
        {
          "output_type": "display_data",
          "data": {
            "text/plain": [
              "15"
            ]
          },
          "metadata": {}
        },
        {
          "output_type": "display_data",
          "data": {
            "application/vnd.google.colaboratory.intrinsic+json": {
              "type": "string"
            },
            "text/plain": [
              "'afflict'"
            ]
          },
          "metadata": {}
        },
        {
          "output_type": "display_data",
          "data": {
            "text/plain": [
              "0.8170912939141188"
            ]
          },
          "metadata": {}
        },
        {
          "output_type": "display_data",
          "data": {
            "text/plain": [
              "16"
            ]
          },
          "metadata": {}
        },
        {
          "output_type": "display_data",
          "data": {
            "application/vnd.google.colaboratory.intrinsic+json": {
              "type": "string"
            },
            "text/plain": [
              "'destitute'"
            ]
          },
          "metadata": {}
        },
        {
          "output_type": "display_data",
          "data": {
            "text/plain": [
              "0.802283467863195"
            ]
          },
          "metadata": {}
        },
        {
          "output_type": "display_data",
          "data": {
            "text/plain": [
              "17"
            ]
          },
          "metadata": {}
        },
        {
          "output_type": "display_data",
          "data": {
            "application/vnd.google.colaboratory.intrinsic+json": {
              "type": "string"
            },
            "text/plain": [
              "'lamenting'"
            ]
          },
          "metadata": {}
        },
        {
          "output_type": "display_data",
          "data": {
            "text/plain": [
              "0.8213475573899938"
            ]
          },
          "metadata": {}
        },
        {
          "output_type": "display_data",
          "data": {
            "text/plain": [
              "18"
            ]
          },
          "metadata": {}
        },
        {
          "output_type": "display_data",
          "data": {
            "application/vnd.google.colaboratory.intrinsic+json": {
              "type": "string"
            },
            "text/plain": [
              "'lament'"
            ]
          },
          "metadata": {}
        },
        {
          "output_type": "display_data",
          "data": {
            "text/plain": [
              "0.8431698412061546"
            ]
          },
          "metadata": {}
        },
        {
          "output_type": "display_data",
          "data": {
            "text/plain": [
              "19"
            ]
          },
          "metadata": {}
        },
        {
          "output_type": "display_data",
          "data": {
            "application/vnd.google.colaboratory.intrinsic+json": {
              "type": "string"
            },
            "text/plain": [
              "'subsidence'"
            ]
          },
          "metadata": {}
        },
        {
          "output_type": "display_data",
          "data": {
            "text/plain": [
              "0.825642034979664"
            ]
          },
          "metadata": {}
        },
        {
          "output_type": "display_data",
          "data": {
            "text/plain": [
              "20"
            ]
          },
          "metadata": {}
        },
        {
          "output_type": "display_data",
          "data": {
            "application/vnd.google.colaboratory.intrinsic+json": {
              "type": "string"
            },
            "text/plain": [
              "'astonishment'"
            ]
          },
          "metadata": {}
        },
        {
          "output_type": "display_data",
          "data": {
            "text/plain": [
              "0.809961289994111"
            ]
          },
          "metadata": {}
        },
        {
          "output_type": "display_data",
          "data": {
            "text/plain": [
              "21"
            ]
          },
          "metadata": {}
        },
        {
          "output_type": "display_data",
          "data": {
            "application/vnd.google.colaboratory.intrinsic+json": {
              "type": "string"
            },
            "text/plain": [
              "'dealt'"
            ]
          },
          "metadata": {}
        },
        {
          "output_type": "display_data",
          "data": {
            "text/plain": [
              "0.8136452984951905"
            ]
          },
          "metadata": {}
        },
        {
          "output_type": "display_data",
          "data": {
            "text/plain": [
              "22"
            ]
          },
          "metadata": {}
        },
        {
          "output_type": "display_data",
          "data": {
            "application/vnd.google.colaboratory.intrinsic+json": {
              "type": "string"
            },
            "text/plain": [
              "'denying'"
            ]
          },
          "metadata": {}
        },
        {
          "output_type": "display_data",
          "data": {
            "text/plain": [
              "0.8402614634532988"
            ]
          },
          "metadata": {}
        }
      ]
    },
    {
      "cell_type": "code",
      "metadata": {
        "colab": {
          "base_uri": "https://localhost:8080/"
        },
        "id": "MHHKi9KYmhuN",
        "outputId": "14d56ac0-abff-4e92-cfec-e8aae411327d"
      },
      "source": [
        "%ls\n"
      ],
      "execution_count": null,
      "outputs": [
        {
          "output_type": "stream",
          "name": "stdout",
          "text": [
            "'CHeeSE article example.gdoc'   embeddings.ipynb\n",
            " \u001b[0m\u001b[01;34mdata\u001b[0m/                          model.ipynb\n",
            " embeddings_bert.csv            NRCLexicon.ipynb\n",
            " embeddings_bert_index.csv      nrc_lexicon_with_embeddings.csv\n",
            " embeddings.csv                 topics.ipynb\n",
            " embeddings_index.csv\n"
          ]
        }
      ]
    },
    {
      "cell_type": "code",
      "metadata": {
        "id": "U2p33Ftn2nuc"
      },
      "source": [
        "# test text\n",
        "text = \"In der Champions-League-Gruppe mit den Young Boys gewinnt Manchester United auch sein zweites Heimspiel nach einem Rückstand. Gegen Atalanta Bergamo liegen die Red Devils sogar 0:2 zurück, ehe ihnen in der zweiten Halbzeit die Wende gelingt. Der Sieg der Mannschaft von Trainer Ole Gunnar Solskjaer war hochverdient. Standesgemäss war es Cristiano Ronaldo, der mit dem späten 3:2 den Sieg sicherstellte. Der Ausnahmefussballer traf in der 81. mit einem Kopfball aus kurzer Distanz zum Schlussresultat. Bis dahin hatten die Engländer die weitaus besseren und auch mehr Chancen als Atalanta. So trafen Marcus Rashford und Scott McTominay je einmal Latte und Pfosten. RB Salzburg kommt der K.o.-Phase mit langen Schritten näher. Mit einem 3:1-Sieg daheim gegen Wolfsburg holen die Österreicher im dritten Gruppenspiel die Punkte 5 bis 7 – auch dank dem Schweizer Doppeltorschützen Noah Okafor.\""
      ],
      "execution_count": null,
      "outputs": []
    },
    {
      "cell_type": "code",
      "metadata": {
        "id": "6ZzQ8Vdm8h7w"
      },
      "source": [
        "text = \"Streit um Spionageverdacht: Russland schliesst seine Nato-Vertretung. Weil sie auch für den Geheimdienst gearbeitet haben sollen, entzog die Nato kürzlich mehreren russischen Diplomaten ihre Akkreditierungen. Moskau zeigte sich verärgert – und reagiert nun mit deutlichen Schritten.  Im Streit um entzogene Akkreditierungen für russische Diplomaten stellt Moskau ab Anfang November die Arbeit seiner ständigen Vertretung bei der Nato in Brüssel ein. Das teilte das russische Aussenministerium am Montag mit.\""
      ],
      "execution_count": null,
      "outputs": []
    },
    {
      "cell_type": "code",
      "metadata": {
        "colab": {
          "base_uri": "https://localhost:8080/",
          "height": 444
        },
        "id": "2mN0MA28mTNK",
        "outputId": "baf6d4f5-462a-4002-930e-b4a308669784"
      },
      "source": [
        "text = \"Charisma\"\n",
        "emolex_df_with_embeddings = pd.read_csv(\"embeddings.csv\")\n",
        "emolex_df_with_embeddings"
      ],
      "execution_count": null,
      "outputs": [
        {
          "output_type": "execute_result",
          "data": {
            "text/html": [
              "<div>\n",
              "<style scoped>\n",
              "    .dataframe tbody tr th:only-of-type {\n",
              "        vertical-align: middle;\n",
              "    }\n",
              "\n",
              "    .dataframe tbody tr th {\n",
              "        vertical-align: top;\n",
              "    }\n",
              "\n",
              "    .dataframe thead th {\n",
              "        text-align: right;\n",
              "    }\n",
              "</style>\n",
              "<table border=\"1\" class=\"dataframe\">\n",
              "  <thead>\n",
              "    <tr style=\"text-align: right;\">\n",
              "      <th></th>\n",
              "      <th>0</th>\n",
              "      <th>1</th>\n",
              "      <th>2</th>\n",
              "      <th>3</th>\n",
              "      <th>4</th>\n",
              "      <th>5</th>\n",
              "      <th>6</th>\n",
              "      <th>7</th>\n",
              "      <th>8</th>\n",
              "      <th>9</th>\n",
              "      <th>10</th>\n",
              "      <th>11</th>\n",
              "      <th>12</th>\n",
              "      <th>13</th>\n",
              "      <th>14</th>\n",
              "      <th>15</th>\n",
              "      <th>16</th>\n",
              "      <th>17</th>\n",
              "      <th>18</th>\n",
              "      <th>19</th>\n",
              "      <th>20</th>\n",
              "      <th>21</th>\n",
              "      <th>22</th>\n",
              "      <th>23</th>\n",
              "      <th>24</th>\n",
              "      <th>25</th>\n",
              "      <th>26</th>\n",
              "      <th>27</th>\n",
              "      <th>28</th>\n",
              "      <th>29</th>\n",
              "      <th>30</th>\n",
              "      <th>31</th>\n",
              "      <th>32</th>\n",
              "      <th>33</th>\n",
              "      <th>34</th>\n",
              "      <th>35</th>\n",
              "      <th>36</th>\n",
              "      <th>37</th>\n",
              "      <th>38</th>\n",
              "      <th>39</th>\n",
              "      <th>...</th>\n",
              "      <th>472</th>\n",
              "      <th>473</th>\n",
              "      <th>474</th>\n",
              "      <th>475</th>\n",
              "      <th>476</th>\n",
              "      <th>477</th>\n",
              "      <th>478</th>\n",
              "      <th>479</th>\n",
              "      <th>480</th>\n",
              "      <th>481</th>\n",
              "      <th>482</th>\n",
              "      <th>483</th>\n",
              "      <th>484</th>\n",
              "      <th>485</th>\n",
              "      <th>486</th>\n",
              "      <th>487</th>\n",
              "      <th>488</th>\n",
              "      <th>489</th>\n",
              "      <th>490</th>\n",
              "      <th>491</th>\n",
              "      <th>492</th>\n",
              "      <th>493</th>\n",
              "      <th>494</th>\n",
              "      <th>495</th>\n",
              "      <th>496</th>\n",
              "      <th>497</th>\n",
              "      <th>498</th>\n",
              "      <th>499</th>\n",
              "      <th>500</th>\n",
              "      <th>501</th>\n",
              "      <th>502</th>\n",
              "      <th>503</th>\n",
              "      <th>504</th>\n",
              "      <th>505</th>\n",
              "      <th>506</th>\n",
              "      <th>507</th>\n",
              "      <th>508</th>\n",
              "      <th>509</th>\n",
              "      <th>510</th>\n",
              "      <th>511</th>\n",
              "    </tr>\n",
              "  </thead>\n",
              "  <tbody>\n",
              "    <tr>\n",
              "      <th>0</th>\n",
              "      <td>0.109317</td>\n",
              "      <td>0.001561</td>\n",
              "      <td>-0.038709</td>\n",
              "      <td>0.011034</td>\n",
              "      <td>-0.057947</td>\n",
              "      <td>0.014078</td>\n",
              "      <td>-0.012465</td>\n",
              "      <td>0.061607</td>\n",
              "      <td>0.033901</td>\n",
              "      <td>-0.019850</td>\n",
              "      <td>-0.036567</td>\n",
              "      <td>0.007742</td>\n",
              "      <td>-0.013863</td>\n",
              "      <td>-0.074603</td>\n",
              "      <td>-0.084126</td>\n",
              "      <td>0.029814</td>\n",
              "      <td>0.004593</td>\n",
              "      <td>-0.056563</td>\n",
              "      <td>-0.092493</td>\n",
              "      <td>0.094409</td>\n",
              "      <td>-0.064294</td>\n",
              "      <td>0.104698</td>\n",
              "      <td>0.062732</td>\n",
              "      <td>0.027869</td>\n",
              "      <td>0.011879</td>\n",
              "      <td>-0.058267</td>\n",
              "      <td>0.001371</td>\n",
              "      <td>-0.056777</td>\n",
              "      <td>-0.020711</td>\n",
              "      <td>0.044578</td>\n",
              "      <td>0.062329</td>\n",
              "      <td>0.054710</td>\n",
              "      <td>-0.057600</td>\n",
              "      <td>-0.061912</td>\n",
              "      <td>0.036521</td>\n",
              "      <td>-0.069653</td>\n",
              "      <td>0.030525</td>\n",
              "      <td>-0.072619</td>\n",
              "      <td>-0.033593</td>\n",
              "      <td>0.021273</td>\n",
              "      <td>...</td>\n",
              "      <td>0.030980</td>\n",
              "      <td>-0.049465</td>\n",
              "      <td>0.029978</td>\n",
              "      <td>0.015868</td>\n",
              "      <td>-0.082230</td>\n",
              "      <td>0.004307</td>\n",
              "      <td>0.018933</td>\n",
              "      <td>0.042480</td>\n",
              "      <td>-0.033291</td>\n",
              "      <td>0.099879</td>\n",
              "      <td>-0.010267</td>\n",
              "      <td>0.036356</td>\n",
              "      <td>-0.049620</td>\n",
              "      <td>-0.026054</td>\n",
              "      <td>0.000915</td>\n",
              "      <td>-0.101772</td>\n",
              "      <td>0.023048</td>\n",
              "      <td>-0.021653</td>\n",
              "      <td>-0.074842</td>\n",
              "      <td>-0.020863</td>\n",
              "      <td>0.054062</td>\n",
              "      <td>-0.004349</td>\n",
              "      <td>-0.073077</td>\n",
              "      <td>0.009696</td>\n",
              "      <td>-0.055970</td>\n",
              "      <td>0.011115</td>\n",
              "      <td>-0.063647</td>\n",
              "      <td>-0.029287</td>\n",
              "      <td>-0.074504</td>\n",
              "      <td>-0.031215</td>\n",
              "      <td>-0.080267</td>\n",
              "      <td>0.017713</td>\n",
              "      <td>0.071654</td>\n",
              "      <td>-0.008148</td>\n",
              "      <td>0.006183</td>\n",
              "      <td>-0.061450</td>\n",
              "      <td>-0.037910</td>\n",
              "      <td>0.083619</td>\n",
              "      <td>-0.030489</td>\n",
              "      <td>0.052017</td>\n",
              "    </tr>\n",
              "    <tr>\n",
              "      <th>1</th>\n",
              "      <td>0.106047</td>\n",
              "      <td>-0.027544</td>\n",
              "      <td>0.021171</td>\n",
              "      <td>0.069828</td>\n",
              "      <td>-0.071946</td>\n",
              "      <td>0.005761</td>\n",
              "      <td>0.019075</td>\n",
              "      <td>0.019177</td>\n",
              "      <td>-0.000999</td>\n",
              "      <td>-0.039573</td>\n",
              "      <td>0.058005</td>\n",
              "      <td>0.004947</td>\n",
              "      <td>-0.049800</td>\n",
              "      <td>-0.054871</td>\n",
              "      <td>-0.041643</td>\n",
              "      <td>-0.016565</td>\n",
              "      <td>0.043592</td>\n",
              "      <td>-0.060916</td>\n",
              "      <td>-0.101384</td>\n",
              "      <td>0.090972</td>\n",
              "      <td>0.037509</td>\n",
              "      <td>0.089335</td>\n",
              "      <td>0.045062</td>\n",
              "      <td>0.042826</td>\n",
              "      <td>-0.024961</td>\n",
              "      <td>-0.012006</td>\n",
              "      <td>0.002435</td>\n",
              "      <td>-0.029739</td>\n",
              "      <td>-0.010001</td>\n",
              "      <td>-0.033453</td>\n",
              "      <td>-0.071212</td>\n",
              "      <td>-0.029354</td>\n",
              "      <td>0.005036</td>\n",
              "      <td>-0.056868</td>\n",
              "      <td>-0.020266</td>\n",
              "      <td>-0.046007</td>\n",
              "      <td>0.053158</td>\n",
              "      <td>-0.006658</td>\n",
              "      <td>-0.055757</td>\n",
              "      <td>0.015571</td>\n",
              "      <td>...</td>\n",
              "      <td>0.063003</td>\n",
              "      <td>-0.020009</td>\n",
              "      <td>0.023872</td>\n",
              "      <td>0.049035</td>\n",
              "      <td>-0.082314</td>\n",
              "      <td>-0.047051</td>\n",
              "      <td>-0.014142</td>\n",
              "      <td>-0.024790</td>\n",
              "      <td>-0.047707</td>\n",
              "      <td>0.091288</td>\n",
              "      <td>-0.011316</td>\n",
              "      <td>0.081225</td>\n",
              "      <td>-0.088676</td>\n",
              "      <td>0.038802</td>\n",
              "      <td>0.026768</td>\n",
              "      <td>-0.093349</td>\n",
              "      <td>-0.026427</td>\n",
              "      <td>0.008939</td>\n",
              "      <td>-0.021378</td>\n",
              "      <td>-0.066759</td>\n",
              "      <td>0.009874</td>\n",
              "      <td>-0.005226</td>\n",
              "      <td>-0.062437</td>\n",
              "      <td>-0.022486</td>\n",
              "      <td>-0.075161</td>\n",
              "      <td>0.004215</td>\n",
              "      <td>-0.039382</td>\n",
              "      <td>-0.064156</td>\n",
              "      <td>-0.047073</td>\n",
              "      <td>-0.060916</td>\n",
              "      <td>-0.088460</td>\n",
              "      <td>0.008264</td>\n",
              "      <td>0.061389</td>\n",
              "      <td>-0.006760</td>\n",
              "      <td>0.010137</td>\n",
              "      <td>0.026002</td>\n",
              "      <td>0.036293</td>\n",
              "      <td>0.069374</td>\n",
              "      <td>-0.003556</td>\n",
              "      <td>0.071969</td>\n",
              "    </tr>\n",
              "    <tr>\n",
              "      <th>2</th>\n",
              "      <td>0.102450</td>\n",
              "      <td>0.026601</td>\n",
              "      <td>-0.028719</td>\n",
              "      <td>-0.021778</td>\n",
              "      <td>-0.069617</td>\n",
              "      <td>0.012869</td>\n",
              "      <td>-0.020064</td>\n",
              "      <td>0.063414</td>\n",
              "      <td>0.005381</td>\n",
              "      <td>-0.024804</td>\n",
              "      <td>-0.073412</td>\n",
              "      <td>0.031091</td>\n",
              "      <td>-0.034009</td>\n",
              "      <td>0.000852</td>\n",
              "      <td>-0.073866</td>\n",
              "      <td>0.029362</td>\n",
              "      <td>0.075778</td>\n",
              "      <td>-0.067048</td>\n",
              "      <td>-0.088231</td>\n",
              "      <td>0.085642</td>\n",
              "      <td>-0.040075</td>\n",
              "      <td>0.099289</td>\n",
              "      <td>0.046189</td>\n",
              "      <td>-0.001169</td>\n",
              "      <td>0.032040</td>\n",
              "      <td>-0.032451</td>\n",
              "      <td>0.030399</td>\n",
              "      <td>-0.076789</td>\n",
              "      <td>0.006726</td>\n",
              "      <td>-0.016104</td>\n",
              "      <td>-0.015963</td>\n",
              "      <td>0.018930</td>\n",
              "      <td>0.048029</td>\n",
              "      <td>-0.070099</td>\n",
              "      <td>-0.014096</td>\n",
              "      <td>-0.043340</td>\n",
              "      <td>-0.037199</td>\n",
              "      <td>-0.043895</td>\n",
              "      <td>0.014140</td>\n",
              "      <td>-0.012683</td>\n",
              "      <td>...</td>\n",
              "      <td>0.019269</td>\n",
              "      <td>0.022487</td>\n",
              "      <td>0.015034</td>\n",
              "      <td>0.013412</td>\n",
              "      <td>-0.079032</td>\n",
              "      <td>-0.014916</td>\n",
              "      <td>0.007744</td>\n",
              "      <td>-0.034612</td>\n",
              "      <td>-0.053224</td>\n",
              "      <td>0.090190</td>\n",
              "      <td>0.017368</td>\n",
              "      <td>-0.049990</td>\n",
              "      <td>-0.025397</td>\n",
              "      <td>0.014546</td>\n",
              "      <td>0.003744</td>\n",
              "      <td>-0.088337</td>\n",
              "      <td>0.030527</td>\n",
              "      <td>0.041337</td>\n",
              "      <td>0.024898</td>\n",
              "      <td>-0.047597</td>\n",
              "      <td>-0.055134</td>\n",
              "      <td>0.035964</td>\n",
              "      <td>-0.060456</td>\n",
              "      <td>0.013504</td>\n",
              "      <td>-0.021532</td>\n",
              "      <td>0.026825</td>\n",
              "      <td>-0.064709</td>\n",
              "      <td>0.015382</td>\n",
              "      <td>-0.057027</td>\n",
              "      <td>-0.069190</td>\n",
              "      <td>-0.066188</td>\n",
              "      <td>0.029481</td>\n",
              "      <td>0.076109</td>\n",
              "      <td>-0.034778</td>\n",
              "      <td>0.007249</td>\n",
              "      <td>-0.037387</td>\n",
              "      <td>-0.042691</td>\n",
              "      <td>0.067079</td>\n",
              "      <td>-0.025844</td>\n",
              "      <td>0.062328</td>\n",
              "    </tr>\n",
              "    <tr>\n",
              "      <th>3</th>\n",
              "      <td>0.104426</td>\n",
              "      <td>-0.017742</td>\n",
              "      <td>-0.028025</td>\n",
              "      <td>-0.042702</td>\n",
              "      <td>-0.078278</td>\n",
              "      <td>0.052751</td>\n",
              "      <td>-0.019000</td>\n",
              "      <td>0.074759</td>\n",
              "      <td>0.027515</td>\n",
              "      <td>-0.021070</td>\n",
              "      <td>-0.083187</td>\n",
              "      <td>0.034721</td>\n",
              "      <td>-0.065755</td>\n",
              "      <td>-0.004861</td>\n",
              "      <td>-0.066471</td>\n",
              "      <td>0.025435</td>\n",
              "      <td>0.005448</td>\n",
              "      <td>-0.070091</td>\n",
              "      <td>-0.083709</td>\n",
              "      <td>0.062874</td>\n",
              "      <td>-0.004058</td>\n",
              "      <td>0.097085</td>\n",
              "      <td>0.054683</td>\n",
              "      <td>-0.053105</td>\n",
              "      <td>0.022473</td>\n",
              "      <td>-0.051704</td>\n",
              "      <td>0.027418</td>\n",
              "      <td>-0.062187</td>\n",
              "      <td>0.022346</td>\n",
              "      <td>-0.019958</td>\n",
              "      <td>-0.002521</td>\n",
              "      <td>-0.004798</td>\n",
              "      <td>0.002326</td>\n",
              "      <td>-0.070612</td>\n",
              "      <td>-0.035092</td>\n",
              "      <td>-0.075825</td>\n",
              "      <td>-0.012454</td>\n",
              "      <td>-0.015831</td>\n",
              "      <td>-0.008222</td>\n",
              "      <td>0.025583</td>\n",
              "      <td>...</td>\n",
              "      <td>0.032795</td>\n",
              "      <td>-0.013993</td>\n",
              "      <td>0.019085</td>\n",
              "      <td>0.039477</td>\n",
              "      <td>-0.082349</td>\n",
              "      <td>-0.051319</td>\n",
              "      <td>-0.034895</td>\n",
              "      <td>-0.041719</td>\n",
              "      <td>-0.019067</td>\n",
              "      <td>0.083620</td>\n",
              "      <td>0.014205</td>\n",
              "      <td>-0.035458</td>\n",
              "      <td>-0.038312</td>\n",
              "      <td>0.021330</td>\n",
              "      <td>0.055533</td>\n",
              "      <td>-0.090524</td>\n",
              "      <td>0.018918</td>\n",
              "      <td>0.051037</td>\n",
              "      <td>-0.032673</td>\n",
              "      <td>-0.044715</td>\n",
              "      <td>-0.031623</td>\n",
              "      <td>0.017882</td>\n",
              "      <td>-0.067044</td>\n",
              "      <td>0.016370</td>\n",
              "      <td>-0.025966</td>\n",
              "      <td>0.017095</td>\n",
              "      <td>-0.046207</td>\n",
              "      <td>0.034618</td>\n",
              "      <td>-0.032920</td>\n",
              "      <td>-0.059186</td>\n",
              "      <td>-0.059598</td>\n",
              "      <td>-0.006696</td>\n",
              "      <td>0.073772</td>\n",
              "      <td>-0.020915</td>\n",
              "      <td>-0.020428</td>\n",
              "      <td>-0.003048</td>\n",
              "      <td>0.003616</td>\n",
              "      <td>0.072193</td>\n",
              "      <td>-0.032594</td>\n",
              "      <td>0.059819</td>\n",
              "    </tr>\n",
              "    <tr>\n",
              "      <th>4</th>\n",
              "      <td>0.100910</td>\n",
              "      <td>-0.023130</td>\n",
              "      <td>0.009070</td>\n",
              "      <td>-0.043831</td>\n",
              "      <td>-0.043406</td>\n",
              "      <td>0.013430</td>\n",
              "      <td>-0.016803</td>\n",
              "      <td>0.083027</td>\n",
              "      <td>0.029479</td>\n",
              "      <td>0.008936</td>\n",
              "      <td>-0.007496</td>\n",
              "      <td>-0.004578</td>\n",
              "      <td>-0.026357</td>\n",
              "      <td>-0.012267</td>\n",
              "      <td>-0.047041</td>\n",
              "      <td>-0.033163</td>\n",
              "      <td>0.040400</td>\n",
              "      <td>-0.074469</td>\n",
              "      <td>-0.096610</td>\n",
              "      <td>0.081777</td>\n",
              "      <td>-0.058020</td>\n",
              "      <td>0.089824</td>\n",
              "      <td>0.046935</td>\n",
              "      <td>0.019604</td>\n",
              "      <td>-0.013933</td>\n",
              "      <td>-0.080659</td>\n",
              "      <td>-0.017539</td>\n",
              "      <td>0.021871</td>\n",
              "      <td>0.008629</td>\n",
              "      <td>0.047279</td>\n",
              "      <td>-0.007867</td>\n",
              "      <td>0.054251</td>\n",
              "      <td>-0.014390</td>\n",
              "      <td>-0.065592</td>\n",
              "      <td>-0.064854</td>\n",
              "      <td>-0.086743</td>\n",
              "      <td>0.008201</td>\n",
              "      <td>0.016918</td>\n",
              "      <td>-0.029078</td>\n",
              "      <td>0.014112</td>\n",
              "      <td>...</td>\n",
              "      <td>0.025922</td>\n",
              "      <td>0.060546</td>\n",
              "      <td>0.020595</td>\n",
              "      <td>0.036809</td>\n",
              "      <td>-0.038231</td>\n",
              "      <td>0.052450</td>\n",
              "      <td>0.055897</td>\n",
              "      <td>-0.094344</td>\n",
              "      <td>-0.060118</td>\n",
              "      <td>0.089791</td>\n",
              "      <td>0.000962</td>\n",
              "      <td>0.062148</td>\n",
              "      <td>-0.095022</td>\n",
              "      <td>0.046109</td>\n",
              "      <td>-0.013158</td>\n",
              "      <td>-0.092419</td>\n",
              "      <td>-0.022002</td>\n",
              "      <td>0.002152</td>\n",
              "      <td>-0.016441</td>\n",
              "      <td>0.000041</td>\n",
              "      <td>-0.055089</td>\n",
              "      <td>0.044480</td>\n",
              "      <td>-0.047560</td>\n",
              "      <td>0.008345</td>\n",
              "      <td>-0.057515</td>\n",
              "      <td>-0.006282</td>\n",
              "      <td>-0.079333</td>\n",
              "      <td>0.055054</td>\n",
              "      <td>-0.051424</td>\n",
              "      <td>-0.027941</td>\n",
              "      <td>-0.079333</td>\n",
              "      <td>0.034625</td>\n",
              "      <td>0.074631</td>\n",
              "      <td>-0.010163</td>\n",
              "      <td>0.018463</td>\n",
              "      <td>0.024995</td>\n",
              "      <td>-0.041434</td>\n",
              "      <td>0.054959</td>\n",
              "      <td>-0.000085</td>\n",
              "      <td>0.067003</td>\n",
              "    </tr>\n",
              "    <tr>\n",
              "      <th>...</th>\n",
              "      <td>...</td>\n",
              "      <td>...</td>\n",
              "      <td>...</td>\n",
              "      <td>...</td>\n",
              "      <td>...</td>\n",
              "      <td>...</td>\n",
              "      <td>...</td>\n",
              "      <td>...</td>\n",
              "      <td>...</td>\n",
              "      <td>...</td>\n",
              "      <td>...</td>\n",
              "      <td>...</td>\n",
              "      <td>...</td>\n",
              "      <td>...</td>\n",
              "      <td>...</td>\n",
              "      <td>...</td>\n",
              "      <td>...</td>\n",
              "      <td>...</td>\n",
              "      <td>...</td>\n",
              "      <td>...</td>\n",
              "      <td>...</td>\n",
              "      <td>...</td>\n",
              "      <td>...</td>\n",
              "      <td>...</td>\n",
              "      <td>...</td>\n",
              "      <td>...</td>\n",
              "      <td>...</td>\n",
              "      <td>...</td>\n",
              "      <td>...</td>\n",
              "      <td>...</td>\n",
              "      <td>...</td>\n",
              "      <td>...</td>\n",
              "      <td>...</td>\n",
              "      <td>...</td>\n",
              "      <td>...</td>\n",
              "      <td>...</td>\n",
              "      <td>...</td>\n",
              "      <td>...</td>\n",
              "      <td>...</td>\n",
              "      <td>...</td>\n",
              "      <td>...</td>\n",
              "      <td>...</td>\n",
              "      <td>...</td>\n",
              "      <td>...</td>\n",
              "      <td>...</td>\n",
              "      <td>...</td>\n",
              "      <td>...</td>\n",
              "      <td>...</td>\n",
              "      <td>...</td>\n",
              "      <td>...</td>\n",
              "      <td>...</td>\n",
              "      <td>...</td>\n",
              "      <td>...</td>\n",
              "      <td>...</td>\n",
              "      <td>...</td>\n",
              "      <td>...</td>\n",
              "      <td>...</td>\n",
              "      <td>...</td>\n",
              "      <td>...</td>\n",
              "      <td>...</td>\n",
              "      <td>...</td>\n",
              "      <td>...</td>\n",
              "      <td>...</td>\n",
              "      <td>...</td>\n",
              "      <td>...</td>\n",
              "      <td>...</td>\n",
              "      <td>...</td>\n",
              "      <td>...</td>\n",
              "      <td>...</td>\n",
              "      <td>...</td>\n",
              "      <td>...</td>\n",
              "      <td>...</td>\n",
              "      <td>...</td>\n",
              "      <td>...</td>\n",
              "      <td>...</td>\n",
              "      <td>...</td>\n",
              "      <td>...</td>\n",
              "      <td>...</td>\n",
              "      <td>...</td>\n",
              "      <td>...</td>\n",
              "      <td>...</td>\n",
              "    </tr>\n",
              "    <tr>\n",
              "      <th>9894</th>\n",
              "      <td>0.121820</td>\n",
              "      <td>-0.077349</td>\n",
              "      <td>-0.043410</td>\n",
              "      <td>-0.035636</td>\n",
              "      <td>-0.053713</td>\n",
              "      <td>-0.041654</td>\n",
              "      <td>-0.022626</td>\n",
              "      <td>0.036935</td>\n",
              "      <td>0.033900</td>\n",
              "      <td>-0.023320</td>\n",
              "      <td>0.059734</td>\n",
              "      <td>0.006217</td>\n",
              "      <td>-0.077192</td>\n",
              "      <td>0.022571</td>\n",
              "      <td>-0.049815</td>\n",
              "      <td>0.024020</td>\n",
              "      <td>0.007817</td>\n",
              "      <td>-0.040774</td>\n",
              "      <td>-0.051234</td>\n",
              "      <td>0.048590</td>\n",
              "      <td>-0.059899</td>\n",
              "      <td>0.103965</td>\n",
              "      <td>0.003674</td>\n",
              "      <td>0.057299</td>\n",
              "      <td>0.025904</td>\n",
              "      <td>-0.046750</td>\n",
              "      <td>-0.016145</td>\n",
              "      <td>-0.029635</td>\n",
              "      <td>0.050297</td>\n",
              "      <td>-0.010218</td>\n",
              "      <td>-0.001670</td>\n",
              "      <td>-0.010732</td>\n",
              "      <td>-0.035037</td>\n",
              "      <td>-0.063413</td>\n",
              "      <td>-0.017006</td>\n",
              "      <td>-0.070124</td>\n",
              "      <td>-0.047435</td>\n",
              "      <td>0.029878</td>\n",
              "      <td>0.024503</td>\n",
              "      <td>0.007751</td>\n",
              "      <td>...</td>\n",
              "      <td>0.070723</td>\n",
              "      <td>0.051704</td>\n",
              "      <td>0.020773</td>\n",
              "      <td>0.046375</td>\n",
              "      <td>-0.065823</td>\n",
              "      <td>-0.050526</td>\n",
              "      <td>0.040307</td>\n",
              "      <td>0.101553</td>\n",
              "      <td>-0.053549</td>\n",
              "      <td>0.103709</td>\n",
              "      <td>0.013118</td>\n",
              "      <td>0.105476</td>\n",
              "      <td>-0.104346</td>\n",
              "      <td>-0.010261</td>\n",
              "      <td>0.068877</td>\n",
              "      <td>-0.101191</td>\n",
              "      <td>0.051535</td>\n",
              "      <td>-0.029780</td>\n",
              "      <td>0.024149</td>\n",
              "      <td>-0.021347</td>\n",
              "      <td>-0.055402</td>\n",
              "      <td>-0.009631</td>\n",
              "      <td>-0.016731</td>\n",
              "      <td>-0.021457</td>\n",
              "      <td>-0.005007</td>\n",
              "      <td>-0.035135</td>\n",
              "      <td>-0.042472</td>\n",
              "      <td>0.033114</td>\n",
              "      <td>-0.045879</td>\n",
              "      <td>-0.075487</td>\n",
              "      <td>-0.087983</td>\n",
              "      <td>0.060188</td>\n",
              "      <td>0.071501</td>\n",
              "      <td>-0.031666</td>\n",
              "      <td>0.012676</td>\n",
              "      <td>-0.040533</td>\n",
              "      <td>0.026969</td>\n",
              "      <td>0.033871</td>\n",
              "      <td>-0.015184</td>\n",
              "      <td>0.024248</td>\n",
              "    </tr>\n",
              "    <tr>\n",
              "      <th>9895</th>\n",
              "      <td>0.090154</td>\n",
              "      <td>-0.048566</td>\n",
              "      <td>-0.012236</td>\n",
              "      <td>0.031537</td>\n",
              "      <td>-0.068351</td>\n",
              "      <td>0.006796</td>\n",
              "      <td>-0.014145</td>\n",
              "      <td>-0.018220</td>\n",
              "      <td>-0.043444</td>\n",
              "      <td>-0.012859</td>\n",
              "      <td>-0.020227</td>\n",
              "      <td>0.065335</td>\n",
              "      <td>-0.054540</td>\n",
              "      <td>0.030232</td>\n",
              "      <td>-0.068942</td>\n",
              "      <td>-0.038667</td>\n",
              "      <td>0.047745</td>\n",
              "      <td>-0.040876</td>\n",
              "      <td>-0.054419</td>\n",
              "      <td>0.033439</td>\n",
              "      <td>0.003357</td>\n",
              "      <td>0.086984</td>\n",
              "      <td>-0.003032</td>\n",
              "      <td>-0.055971</td>\n",
              "      <td>0.048499</td>\n",
              "      <td>-0.002243</td>\n",
              "      <td>0.009287</td>\n",
              "      <td>-0.032468</td>\n",
              "      <td>-0.014241</td>\n",
              "      <td>0.050886</td>\n",
              "      <td>0.044190</td>\n",
              "      <td>-0.055049</td>\n",
              "      <td>-0.086331</td>\n",
              "      <td>-0.074482</td>\n",
              "      <td>0.043997</td>\n",
              "      <td>-0.036341</td>\n",
              "      <td>0.037449</td>\n",
              "      <td>-0.007343</td>\n",
              "      <td>0.089395</td>\n",
              "      <td>0.023472</td>\n",
              "      <td>...</td>\n",
              "      <td>-0.007428</td>\n",
              "      <td>-0.086864</td>\n",
              "      <td>-0.016593</td>\n",
              "      <td>0.010121</td>\n",
              "      <td>0.018493</td>\n",
              "      <td>-0.050381</td>\n",
              "      <td>0.037078</td>\n",
              "      <td>0.033530</td>\n",
              "      <td>0.000296</td>\n",
              "      <td>0.085222</td>\n",
              "      <td>0.059978</td>\n",
              "      <td>0.066390</td>\n",
              "      <td>-0.044469</td>\n",
              "      <td>-0.046010</td>\n",
              "      <td>0.069771</td>\n",
              "      <td>-0.080301</td>\n",
              "      <td>-0.019152</td>\n",
              "      <td>0.012231</td>\n",
              "      <td>0.047363</td>\n",
              "      <td>-0.020836</td>\n",
              "      <td>-0.075581</td>\n",
              "      <td>0.044750</td>\n",
              "      <td>-0.026572</td>\n",
              "      <td>-0.011924</td>\n",
              "      <td>-0.057882</td>\n",
              "      <td>-0.020101</td>\n",
              "      <td>-0.049189</td>\n",
              "      <td>-0.020538</td>\n",
              "      <td>0.087106</td>\n",
              "      <td>-0.010316</td>\n",
              "      <td>-0.085308</td>\n",
              "      <td>0.055993</td>\n",
              "      <td>0.074830</td>\n",
              "      <td>-0.005769</td>\n",
              "      <td>0.015489</td>\n",
              "      <td>-0.040217</td>\n",
              "      <td>-0.052250</td>\n",
              "      <td>0.037675</td>\n",
              "      <td>0.024719</td>\n",
              "      <td>0.065148</td>\n",
              "    </tr>\n",
              "    <tr>\n",
              "      <th>9896</th>\n",
              "      <td>0.122708</td>\n",
              "      <td>0.009699</td>\n",
              "      <td>-0.010126</td>\n",
              "      <td>0.033930</td>\n",
              "      <td>-0.060156</td>\n",
              "      <td>0.047232</td>\n",
              "      <td>-0.018472</td>\n",
              "      <td>0.090425</td>\n",
              "      <td>-0.062994</td>\n",
              "      <td>0.004833</td>\n",
              "      <td>0.009364</td>\n",
              "      <td>-0.027850</td>\n",
              "      <td>-0.014003</td>\n",
              "      <td>0.010325</td>\n",
              "      <td>-0.070877</td>\n",
              "      <td>-0.043465</td>\n",
              "      <td>-0.011892</td>\n",
              "      <td>-0.046387</td>\n",
              "      <td>-0.013163</td>\n",
              "      <td>0.093090</td>\n",
              "      <td>0.019880</td>\n",
              "      <td>0.116358</td>\n",
              "      <td>0.061773</td>\n",
              "      <td>-0.015481</td>\n",
              "      <td>0.014303</td>\n",
              "      <td>0.024305</td>\n",
              "      <td>0.021885</td>\n",
              "      <td>0.013825</td>\n",
              "      <td>0.017036</td>\n",
              "      <td>0.022011</td>\n",
              "      <td>-0.020154</td>\n",
              "      <td>-0.019286</td>\n",
              "      <td>-0.006853</td>\n",
              "      <td>-0.076286</td>\n",
              "      <td>-0.002173</td>\n",
              "      <td>-0.101521</td>\n",
              "      <td>-0.000986</td>\n",
              "      <td>0.056022</td>\n",
              "      <td>-0.007019</td>\n",
              "      <td>0.056384</td>\n",
              "      <td>...</td>\n",
              "      <td>-0.031708</td>\n",
              "      <td>-0.060569</td>\n",
              "      <td>0.079642</td>\n",
              "      <td>0.058675</td>\n",
              "      <td>-0.041196</td>\n",
              "      <td>-0.059678</td>\n",
              "      <td>0.059361</td>\n",
              "      <td>-0.004525</td>\n",
              "      <td>0.012005</td>\n",
              "      <td>0.113781</td>\n",
              "      <td>-0.001777</td>\n",
              "      <td>-0.009854</td>\n",
              "      <td>-0.037090</td>\n",
              "      <td>-0.010631</td>\n",
              "      <td>0.038609</td>\n",
              "      <td>-0.106761</td>\n",
              "      <td>-0.026510</td>\n",
              "      <td>0.048413</td>\n",
              "      <td>0.025055</td>\n",
              "      <td>-0.045537</td>\n",
              "      <td>0.021520</td>\n",
              "      <td>-0.001281</td>\n",
              "      <td>0.032009</td>\n",
              "      <td>-0.031036</td>\n",
              "      <td>-0.027058</td>\n",
              "      <td>-0.035126</td>\n",
              "      <td>0.007745</td>\n",
              "      <td>0.016354</td>\n",
              "      <td>-0.078120</td>\n",
              "      <td>-0.036729</td>\n",
              "      <td>-0.104108</td>\n",
              "      <td>-0.011284</td>\n",
              "      <td>0.067831</td>\n",
              "      <td>0.028955</td>\n",
              "      <td>-0.000903</td>\n",
              "      <td>0.002092</td>\n",
              "      <td>-0.043493</td>\n",
              "      <td>0.039268</td>\n",
              "      <td>-0.007500</td>\n",
              "      <td>0.081011</td>\n",
              "    </tr>\n",
              "    <tr>\n",
              "      <th>9897</th>\n",
              "      <td>0.107988</td>\n",
              "      <td>-0.007806</td>\n",
              "      <td>0.049510</td>\n",
              "      <td>-0.061573</td>\n",
              "      <td>-0.057640</td>\n",
              "      <td>-0.001940</td>\n",
              "      <td>0.009899</td>\n",
              "      <td>0.063374</td>\n",
              "      <td>0.026208</td>\n",
              "      <td>0.019379</td>\n",
              "      <td>-0.009950</td>\n",
              "      <td>-0.003185</td>\n",
              "      <td>-0.081842</td>\n",
              "      <td>-0.055604</td>\n",
              "      <td>-0.090243</td>\n",
              "      <td>0.007246</td>\n",
              "      <td>0.067559</td>\n",
              "      <td>-0.002240</td>\n",
              "      <td>-0.093093</td>\n",
              "      <td>0.080108</td>\n",
              "      <td>-0.096103</td>\n",
              "      <td>0.094652</td>\n",
              "      <td>0.053755</td>\n",
              "      <td>-0.018661</td>\n",
              "      <td>-0.003296</td>\n",
              "      <td>0.032648</td>\n",
              "      <td>-0.003942</td>\n",
              "      <td>0.016165</td>\n",
              "      <td>0.066648</td>\n",
              "      <td>-0.015323</td>\n",
              "      <td>0.014116</td>\n",
              "      <td>0.028591</td>\n",
              "      <td>0.006246</td>\n",
              "      <td>-0.051221</td>\n",
              "      <td>-0.052494</td>\n",
              "      <td>-0.044071</td>\n",
              "      <td>-0.057756</td>\n",
              "      <td>0.033445</td>\n",
              "      <td>0.022671</td>\n",
              "      <td>0.004078</td>\n",
              "      <td>...</td>\n",
              "      <td>0.022878</td>\n",
              "      <td>0.034772</td>\n",
              "      <td>0.038998</td>\n",
              "      <td>-0.031314</td>\n",
              "      <td>-0.062748</td>\n",
              "      <td>0.002738</td>\n",
              "      <td>-0.011306</td>\n",
              "      <td>-0.044394</td>\n",
              "      <td>-0.005967</td>\n",
              "      <td>0.100049</td>\n",
              "      <td>-0.076752</td>\n",
              "      <td>0.054530</td>\n",
              "      <td>-0.013351</td>\n",
              "      <td>0.029080</td>\n",
              "      <td>0.008287</td>\n",
              "      <td>-0.089445</td>\n",
              "      <td>-0.079348</td>\n",
              "      <td>0.072602</td>\n",
              "      <td>0.025645</td>\n",
              "      <td>-0.011866</td>\n",
              "      <td>-0.041488</td>\n",
              "      <td>0.048597</td>\n",
              "      <td>-0.015524</td>\n",
              "      <td>-0.018285</td>\n",
              "      <td>0.026122</td>\n",
              "      <td>-0.040398</td>\n",
              "      <td>-0.042824</td>\n",
              "      <td>0.031728</td>\n",
              "      <td>-0.063317</td>\n",
              "      <td>-0.078717</td>\n",
              "      <td>-0.093149</td>\n",
              "      <td>-0.009228</td>\n",
              "      <td>0.085266</td>\n",
              "      <td>-0.046762</td>\n",
              "      <td>0.037073</td>\n",
              "      <td>0.026381</td>\n",
              "      <td>-0.011761</td>\n",
              "      <td>0.016026</td>\n",
              "      <td>-0.005857</td>\n",
              "      <td>0.019257</td>\n",
              "    </tr>\n",
              "    <tr>\n",
              "      <th>9898</th>\n",
              "      <td>0.138728</td>\n",
              "      <td>-0.014191</td>\n",
              "      <td>0.000289</td>\n",
              "      <td>0.060043</td>\n",
              "      <td>-0.024025</td>\n",
              "      <td>0.012595</td>\n",
              "      <td>0.027065</td>\n",
              "      <td>0.036794</td>\n",
              "      <td>-0.061129</td>\n",
              "      <td>0.001733</td>\n",
              "      <td>0.013876</td>\n",
              "      <td>0.059342</td>\n",
              "      <td>-0.053622</td>\n",
              "      <td>-0.034493</td>\n",
              "      <td>-0.086806</td>\n",
              "      <td>0.004076</td>\n",
              "      <td>-0.020220</td>\n",
              "      <td>-0.078587</td>\n",
              "      <td>-0.029992</td>\n",
              "      <td>0.109863</td>\n",
              "      <td>-0.082314</td>\n",
              "      <td>0.127892</td>\n",
              "      <td>0.066392</td>\n",
              "      <td>0.031147</td>\n",
              "      <td>-0.001453</td>\n",
              "      <td>-0.022209</td>\n",
              "      <td>-0.048689</td>\n",
              "      <td>-0.032367</td>\n",
              "      <td>-0.004183</td>\n",
              "      <td>0.010334</td>\n",
              "      <td>0.005543</td>\n",
              "      <td>-0.015828</td>\n",
              "      <td>-0.000923</td>\n",
              "      <td>-0.075248</td>\n",
              "      <td>0.033753</td>\n",
              "      <td>-0.076223</td>\n",
              "      <td>-0.016744</td>\n",
              "      <td>0.008138</td>\n",
              "      <td>0.012832</td>\n",
              "      <td>0.010660</td>\n",
              "      <td>...</td>\n",
              "      <td>-0.035120</td>\n",
              "      <td>-0.054041</td>\n",
              "      <td>-0.022290</td>\n",
              "      <td>0.044145</td>\n",
              "      <td>-0.062931</td>\n",
              "      <td>0.041544</td>\n",
              "      <td>0.025003</td>\n",
              "      <td>-0.001783</td>\n",
              "      <td>-0.006871</td>\n",
              "      <td>0.110169</td>\n",
              "      <td>0.055354</td>\n",
              "      <td>-0.011669</td>\n",
              "      <td>-0.018610</td>\n",
              "      <td>-0.009221</td>\n",
              "      <td>0.021246</td>\n",
              "      <td>-0.096385</td>\n",
              "      <td>-0.006145</td>\n",
              "      <td>0.005329</td>\n",
              "      <td>-0.062796</td>\n",
              "      <td>-0.004518</td>\n",
              "      <td>-0.061152</td>\n",
              "      <td>-0.021594</td>\n",
              "      <td>-0.047433</td>\n",
              "      <td>-0.063688</td>\n",
              "      <td>-0.035131</td>\n",
              "      <td>0.024145</td>\n",
              "      <td>-0.042291</td>\n",
              "      <td>0.035916</td>\n",
              "      <td>-0.022816</td>\n",
              "      <td>-0.057025</td>\n",
              "      <td>-0.072695</td>\n",
              "      <td>0.038825</td>\n",
              "      <td>0.073945</td>\n",
              "      <td>0.020796</td>\n",
              "      <td>0.026808</td>\n",
              "      <td>-0.050325</td>\n",
              "      <td>-0.051428</td>\n",
              "      <td>0.073778</td>\n",
              "      <td>-0.023939</td>\n",
              "      <td>0.098280</td>\n",
              "    </tr>\n",
              "  </tbody>\n",
              "</table>\n",
              "<p>9899 rows × 512 columns</p>\n",
              "</div>"
            ],
            "text/plain": [
              "             0         1         2  ...       509       510       511\n",
              "0     0.109317  0.001561 -0.038709  ...  0.083619 -0.030489  0.052017\n",
              "1     0.106047 -0.027544  0.021171  ...  0.069374 -0.003556  0.071969\n",
              "2     0.102450  0.026601 -0.028719  ...  0.067079 -0.025844  0.062328\n",
              "3     0.104426 -0.017742 -0.028025  ...  0.072193 -0.032594  0.059819\n",
              "4     0.100910 -0.023130  0.009070  ...  0.054959 -0.000085  0.067003\n",
              "...        ...       ...       ...  ...       ...       ...       ...\n",
              "9894  0.121820 -0.077349 -0.043410  ...  0.033871 -0.015184  0.024248\n",
              "9895  0.090154 -0.048566 -0.012236  ...  0.037675  0.024719  0.065148\n",
              "9896  0.122708  0.009699 -0.010126  ...  0.039268 -0.007500  0.081011\n",
              "9897  0.107988 -0.007806  0.049510  ...  0.016026 -0.005857  0.019257\n",
              "9898  0.138728 -0.014191  0.000289  ...  0.073778 -0.023939  0.098280\n",
              "\n",
              "[9899 rows x 512 columns]"
            ]
          },
          "metadata": {},
          "execution_count": 36
        }
      ]
    },
    {
      "cell_type": "code",
      "metadata": {
        "colab": {
          "base_uri": "https://localhost:8080/"
        },
        "id": "roiEsLga2H_T",
        "outputId": "6fa1fe5f-34ca-4887-f09e-97d6c82c0d1a"
      },
      "source": [
        "test = 'für'\n",
        "len(test)"
      ],
      "execution_count": null,
      "outputs": [
        {
          "output_type": "execute_result",
          "data": {
            "text/plain": [
              "3"
            ]
          },
          "metadata": {},
          "execution_count": 14
        }
      ]
    },
    {
      "cell_type": "code",
      "metadata": {
        "id": "IiOyCY7zrCgm"
      },
      "source": [
        "text = \"Ausbildung\""
      ],
      "execution_count": null,
      "outputs": []
    },
    {
      "cell_type": "code",
      "metadata": {
        "colab": {
          "base_uri": "https://localhost:8080/",
          "height": 36
        },
        "id": "irIs-Vj47Zgr",
        "outputId": "d021a814-080b-43c7-e56a-e04d76c6993e"
      },
      "source": [
        "\n",
        "text_splited = text.split()\n",
        "emotion_list = pd.DataFrame(columns = ['emotion',\t'word', 'German-de', 'anger', 'anticipation', 'disgust', 'fear', 'joy', 'sadness', 'surprise', 'trust'])\n",
        "\n",
        "for word in text_splited:\n",
        "  if len(word) < 4:\n",
        "    continue\n",
        "  display(word)\n",
        "  embedding_word = np.array(model_1(word))\n",
        "  embedding_word = list(embedding_word[0])\n",
        "  count = 0\n",
        "  words_list = []\n",
        "  cos_sim_list = []\n",
        "  for index, row in emolex_df_with_embeddings.iterrows():\n",
        "      word_in_lexicon = row[\"word\"]\n",
        "      word_embedding = row[list_of_string_integers_0_511]\n",
        "      word_embedding = list(word_embedding)\n",
        "\n",
        "      cos_sim = 1 - spatial.distance.cosine(embedding_word, word_embedding)\n",
        "      \n",
        "      if cos_sim > 0.70:\n",
        "        words_list.append(word_in_lexicon)\n",
        "        cos_sim_list.append(cos_sim)\n",
        "        count += 1\n",
        "  if len(words_list) > 0:\n",
        "    display(word)\n",
        "    display(words_list)\n",
        "    display(cos_sim_list)\n",
        "      \n",
        "\n",
        "\n",
        "    \n"
      ],
      "execution_count": null,
      "outputs": [
        {
          "output_type": "display_data",
          "data": {
            "application/vnd.google.colaboratory.intrinsic+json": {
              "type": "string"
            },
            "text/plain": [
              "'Ausbildung'"
            ]
          },
          "metadata": {}
        }
      ]
    },
    {
      "cell_type": "code",
      "metadata": {
        "colab": {
          "base_uri": "https://localhost:8080/",
          "height": 789
        },
        "id": "ELWb6NNf5e7s",
        "outputId": "00e3d79f-0b22-4476-a0d0-39721118906e"
      },
      "source": [
        "\n",
        "text_splited = text.split()\n",
        "emotion_list = pd.DataFrame(columns = ['emotion',\t'word', 'German-de', 'anger', 'anticipation', 'disgust', 'fear', 'joy', 'sadness', 'surprise', 'trust'])\n",
        "#emotion_list.columns = ['anger', 'anticipation', 'disgust', 'fear', 'joy', 'sadness', 'surprise', 'trust']\n",
        "words_found_counter = 0\n",
        "words_in_total = 0\n",
        "for word in text_splited: \n",
        "  words_in_total += 1\n",
        "  if word in emolex_df['German-de'].values:\n",
        "    word_found = emolex_df.loc[emolex_df['German-de'] == word]\n",
        "    word_info = word_found.pivot(index=['word' ,'German-de'], columns='emotion', values='emotion-intensity-score').reset_index()\n",
        "    emotion_list = emotion_list.append(word_info)\n",
        "    words_found_counter +=1 \n",
        "    \n",
        "print(\"words found: \", words_found_counter)\n",
        "print(\"words total: \", words_in_total)\n",
        "display(emotion_list)\n",
        "display(emotion_list[['anger', 'anticipation', 'disgust', 'fear', 'joy', 'sadness', 'surprise', 'trust']].mean())"
      ],
      "execution_count": null,
      "outputs": [
        {
          "output_type": "stream",
          "name": "stdout",
          "text": [
            "words found:  6\n",
            "words total:  68\n"
          ]
        },
        {
          "output_type": "display_data",
          "data": {
            "text/html": [
              "<div>\n",
              "<style scoped>\n",
              "    .dataframe tbody tr th:only-of-type {\n",
              "        vertical-align: middle;\n",
              "    }\n",
              "\n",
              "    .dataframe tbody tr th {\n",
              "        vertical-align: top;\n",
              "    }\n",
              "\n",
              "    .dataframe thead th {\n",
              "        text-align: right;\n",
              "    }\n",
              "</style>\n",
              "<table border=\"1\" class=\"dataframe\">\n",
              "  <thead>\n",
              "    <tr style=\"text-align: right;\">\n",
              "      <th></th>\n",
              "      <th>emotion</th>\n",
              "      <th>word</th>\n",
              "      <th>German-de</th>\n",
              "      <th>anger</th>\n",
              "      <th>anticipation</th>\n",
              "      <th>disgust</th>\n",
              "      <th>fear</th>\n",
              "      <th>joy</th>\n",
              "      <th>sadness</th>\n",
              "      <th>surprise</th>\n",
              "      <th>trust</th>\n",
              "    </tr>\n",
              "  </thead>\n",
              "  <tbody>\n",
              "    <tr>\n",
              "      <th>0</th>\n",
              "      <td>NaN</td>\n",
              "      <td>argument</td>\n",
              "      <td>Streit</td>\n",
              "      <td>0.545</td>\n",
              "      <td>NaN</td>\n",
              "      <td>NaN</td>\n",
              "      <td>NaN</td>\n",
              "      <td>NaN</td>\n",
              "      <td>NaN</td>\n",
              "      <td>NaN</td>\n",
              "      <td>NaN</td>\n",
              "    </tr>\n",
              "    <tr>\n",
              "      <th>1</th>\n",
              "      <td>NaN</td>\n",
              "      <td>dispute</td>\n",
              "      <td>Streit</td>\n",
              "      <td>0.531</td>\n",
              "      <td>NaN</td>\n",
              "      <td>NaN</td>\n",
              "      <td>NaN</td>\n",
              "      <td>NaN</td>\n",
              "      <td>NaN</td>\n",
              "      <td>NaN</td>\n",
              "      <td>NaN</td>\n",
              "    </tr>\n",
              "    <tr>\n",
              "      <th>2</th>\n",
              "      <td>NaN</td>\n",
              "      <td>quarrel</td>\n",
              "      <td>Streit</td>\n",
              "      <td>0.781</td>\n",
              "      <td>NaN</td>\n",
              "      <td>NaN</td>\n",
              "      <td>NaN</td>\n",
              "      <td>NaN</td>\n",
              "      <td>NaN</td>\n",
              "      <td>NaN</td>\n",
              "      <td>NaN</td>\n",
              "    </tr>\n",
              "    <tr>\n",
              "      <th>3</th>\n",
              "      <td>NaN</td>\n",
              "      <td>strife</td>\n",
              "      <td>Streit</td>\n",
              "      <td>0.625</td>\n",
              "      <td>NaN</td>\n",
              "      <td>NaN</td>\n",
              "      <td>NaN</td>\n",
              "      <td>NaN</td>\n",
              "      <td>NaN</td>\n",
              "      <td>NaN</td>\n",
              "      <td>NaN</td>\n",
              "    </tr>\n",
              "    <tr>\n",
              "      <th>0</th>\n",
              "      <td>NaN</td>\n",
              "      <td>labored</td>\n",
              "      <td>gearbeitet</td>\n",
              "      <td>NaN</td>\n",
              "      <td>NaN</td>\n",
              "      <td>NaN</td>\n",
              "      <td>NaN</td>\n",
              "      <td>NaN</td>\n",
              "      <td>0.25</td>\n",
              "      <td>NaN</td>\n",
              "      <td>NaN</td>\n",
              "    </tr>\n",
              "    <tr>\n",
              "      <th>0</th>\n",
              "      <td>NaN</td>\n",
              "      <td>angered</td>\n",
              "      <td>verärgert</td>\n",
              "      <td>0.916</td>\n",
              "      <td>NaN</td>\n",
              "      <td>NaN</td>\n",
              "      <td>NaN</td>\n",
              "      <td>NaN</td>\n",
              "      <td>NaN</td>\n",
              "      <td>NaN</td>\n",
              "      <td>NaN</td>\n",
              "    </tr>\n",
              "    <tr>\n",
              "      <th>1</th>\n",
              "      <td>NaN</td>\n",
              "      <td>annoyed</td>\n",
              "      <td>verärgert</td>\n",
              "      <td>0.485</td>\n",
              "      <td>NaN</td>\n",
              "      <td>NaN</td>\n",
              "      <td>NaN</td>\n",
              "      <td>NaN</td>\n",
              "      <td>NaN</td>\n",
              "      <td>NaN</td>\n",
              "      <td>NaN</td>\n",
              "    </tr>\n",
              "    <tr>\n",
              "      <th>2</th>\n",
              "      <td>NaN</td>\n",
              "      <td>disgruntled</td>\n",
              "      <td>verärgert</td>\n",
              "      <td>0.693</td>\n",
              "      <td>NaN</td>\n",
              "      <td>0.406</td>\n",
              "      <td>NaN</td>\n",
              "      <td>NaN</td>\n",
              "      <td>0.712</td>\n",
              "      <td>NaN</td>\n",
              "      <td>NaN</td>\n",
              "    </tr>\n",
              "    <tr>\n",
              "      <th>3</th>\n",
              "      <td>NaN</td>\n",
              "      <td>peeved</td>\n",
              "      <td>verärgert</td>\n",
              "      <td>0.688</td>\n",
              "      <td>NaN</td>\n",
              "      <td>NaN</td>\n",
              "      <td>NaN</td>\n",
              "      <td>NaN</td>\n",
              "      <td>NaN</td>\n",
              "      <td>NaN</td>\n",
              "      <td>NaN</td>\n",
              "    </tr>\n",
              "    <tr>\n",
              "      <th>4</th>\n",
              "      <td>NaN</td>\n",
              "      <td>pissoff</td>\n",
              "      <td>verärgert</td>\n",
              "      <td>0.875</td>\n",
              "      <td>NaN</td>\n",
              "      <td>NaN</td>\n",
              "      <td>NaN</td>\n",
              "      <td>NaN</td>\n",
              "      <td>NaN</td>\n",
              "      <td>NaN</td>\n",
              "      <td>NaN</td>\n",
              "    </tr>\n",
              "    <tr>\n",
              "      <th>5</th>\n",
              "      <td>NaN</td>\n",
              "      <td>upset</td>\n",
              "      <td>verärgert</td>\n",
              "      <td>0.439</td>\n",
              "      <td>NaN</td>\n",
              "      <td>NaN</td>\n",
              "      <td>NaN</td>\n",
              "      <td>NaN</td>\n",
              "      <td>0.562</td>\n",
              "      <td>NaN</td>\n",
              "      <td>NaN</td>\n",
              "    </tr>\n",
              "    <tr>\n",
              "      <th>0</th>\n",
              "      <td>NaN</td>\n",
              "      <td>argument</td>\n",
              "      <td>Streit</td>\n",
              "      <td>0.545</td>\n",
              "      <td>NaN</td>\n",
              "      <td>NaN</td>\n",
              "      <td>NaN</td>\n",
              "      <td>NaN</td>\n",
              "      <td>NaN</td>\n",
              "      <td>NaN</td>\n",
              "      <td>NaN</td>\n",
              "    </tr>\n",
              "    <tr>\n",
              "      <th>1</th>\n",
              "      <td>NaN</td>\n",
              "      <td>dispute</td>\n",
              "      <td>Streit</td>\n",
              "      <td>0.531</td>\n",
              "      <td>NaN</td>\n",
              "      <td>NaN</td>\n",
              "      <td>NaN</td>\n",
              "      <td>NaN</td>\n",
              "      <td>NaN</td>\n",
              "      <td>NaN</td>\n",
              "      <td>NaN</td>\n",
              "    </tr>\n",
              "    <tr>\n",
              "      <th>2</th>\n",
              "      <td>NaN</td>\n",
              "      <td>quarrel</td>\n",
              "      <td>Streit</td>\n",
              "      <td>0.781</td>\n",
              "      <td>NaN</td>\n",
              "      <td>NaN</td>\n",
              "      <td>NaN</td>\n",
              "      <td>NaN</td>\n",
              "      <td>NaN</td>\n",
              "      <td>NaN</td>\n",
              "      <td>NaN</td>\n",
              "    </tr>\n",
              "    <tr>\n",
              "      <th>3</th>\n",
              "      <td>NaN</td>\n",
              "      <td>strife</td>\n",
              "      <td>Streit</td>\n",
              "      <td>0.625</td>\n",
              "      <td>NaN</td>\n",
              "      <td>NaN</td>\n",
              "      <td>NaN</td>\n",
              "      <td>NaN</td>\n",
              "      <td>NaN</td>\n",
              "      <td>NaN</td>\n",
              "      <td>NaN</td>\n",
              "    </tr>\n",
              "    <tr>\n",
              "      <th>0</th>\n",
              "      <td>NaN</td>\n",
              "      <td>start</td>\n",
              "      <td>Anfang</td>\n",
              "      <td>NaN</td>\n",
              "      <td>0.75</td>\n",
              "      <td>NaN</td>\n",
              "      <td>NaN</td>\n",
              "      <td>NaN</td>\n",
              "      <td>NaN</td>\n",
              "      <td>0.344</td>\n",
              "      <td>NaN</td>\n",
              "    </tr>\n",
              "    <tr>\n",
              "      <th>0</th>\n",
              "      <td>NaN</td>\n",
              "      <td>labor</td>\n",
              "      <td>Arbeit</td>\n",
              "      <td>NaN</td>\n",
              "      <td>0.383</td>\n",
              "      <td>NaN</td>\n",
              "      <td>NaN</td>\n",
              "      <td>0.106</td>\n",
              "      <td>NaN</td>\n",
              "      <td>0.281</td>\n",
              "      <td>0.414</td>\n",
              "    </tr>\n",
              "  </tbody>\n",
              "</table>\n",
              "</div>"
            ],
            "text/plain": [
              "  emotion         word   German-de  anger  ...    joy sadness surprise  trust\n",
              "0     NaN     argument      Streit  0.545  ...    NaN     NaN      NaN    NaN\n",
              "1     NaN      dispute      Streit  0.531  ...    NaN     NaN      NaN    NaN\n",
              "2     NaN      quarrel      Streit  0.781  ...    NaN     NaN      NaN    NaN\n",
              "3     NaN       strife      Streit  0.625  ...    NaN     NaN      NaN    NaN\n",
              "0     NaN      labored  gearbeitet    NaN  ...    NaN    0.25      NaN    NaN\n",
              "0     NaN      angered   verärgert  0.916  ...    NaN     NaN      NaN    NaN\n",
              "1     NaN      annoyed   verärgert  0.485  ...    NaN     NaN      NaN    NaN\n",
              "2     NaN  disgruntled   verärgert  0.693  ...    NaN   0.712      NaN    NaN\n",
              "3     NaN       peeved   verärgert  0.688  ...    NaN     NaN      NaN    NaN\n",
              "4     NaN      pissoff   verärgert  0.875  ...    NaN     NaN      NaN    NaN\n",
              "5     NaN        upset   verärgert  0.439  ...    NaN   0.562      NaN    NaN\n",
              "0     NaN     argument      Streit  0.545  ...    NaN     NaN      NaN    NaN\n",
              "1     NaN      dispute      Streit  0.531  ...    NaN     NaN      NaN    NaN\n",
              "2     NaN      quarrel      Streit  0.781  ...    NaN     NaN      NaN    NaN\n",
              "3     NaN       strife      Streit  0.625  ...    NaN     NaN      NaN    NaN\n",
              "0     NaN        start      Anfang    NaN  ...    NaN     NaN    0.344    NaN\n",
              "0     NaN        labor      Arbeit    NaN  ...  0.106     NaN    0.281  0.414\n",
              "\n",
              "[17 rows x 11 columns]"
            ]
          },
          "metadata": {}
        },
        {
          "output_type": "display_data",
          "data": {
            "text/plain": [
              "anger           0.647143\n",
              "anticipation    0.566500\n",
              "disgust         0.406000\n",
              "fear                 NaN\n",
              "joy             0.106000\n",
              "sadness         0.508000\n",
              "surprise        0.312500\n",
              "trust           0.414000\n",
              "dtype: float64"
            ]
          },
          "metadata": {}
        }
      ]
    },
    {
      "cell_type": "code",
      "metadata": {
        "id": "P36HLb9szeFy"
      },
      "source": [
        " text = \"Konflikt\""
      ],
      "execution_count": null,
      "outputs": []
    },
    {
      "cell_type": "code",
      "metadata": {
        "colab": {
          "base_uri": "https://localhost:8080/",
          "height": 118
        },
        "id": "4UwE_gR4zUCE",
        "outputId": "dfb312ef-088a-431c-b05f-7ddb59ca1abc"
      },
      "source": [
        "text_splited = text.split()\n",
        "emotion_list = pd.DataFrame(columns = ['emotion',\t'word', 'German-de', 'anger', 'anticipation', 'disgust', 'fear', 'joy', 'sadness', 'surprise', 'trust'])\n",
        "#emotion_list.columns = ['anger', 'anticipation', 'disgust', 'fear', 'joy', 'sadness', 'surprise', 'trust']\n",
        "words_found_counter = 0\n",
        "words_in_total = 0\n",
        "for word in text_splited: \n",
        "  words_in_total += 1\n",
        "  if word in emolex_df['German-de'].values:\n",
        "    word_found = emolex_df.loc[emolex_df['German-de'] == word]\n",
        "    word_info = word_found.pivot(index=['word' ,'German-de'], columns='emotion', values='emotion-intensity-score').reset_index()\n",
        "    emotion_list = emotion_list.append(word_info)\n",
        "    words_found_counter +=1 \n",
        "    \n",
        "print(\"words found: \", words_found_counter)\n",
        "print(\"words total: \", words_in_total)\n",
        "display(emotion_list)\n"
      ],
      "execution_count": null,
      "outputs": [
        {
          "output_type": "stream",
          "name": "stdout",
          "text": [
            "words found:  1\n",
            "words total:  1\n"
          ]
        },
        {
          "output_type": "display_data",
          "data": {
            "text/html": [
              "<div>\n",
              "<style scoped>\n",
              "    .dataframe tbody tr th:only-of-type {\n",
              "        vertical-align: middle;\n",
              "    }\n",
              "\n",
              "    .dataframe tbody tr th {\n",
              "        vertical-align: top;\n",
              "    }\n",
              "\n",
              "    .dataframe thead th {\n",
              "        text-align: right;\n",
              "    }\n",
              "</style>\n",
              "<table border=\"1\" class=\"dataframe\">\n",
              "  <thead>\n",
              "    <tr style=\"text-align: right;\">\n",
              "      <th></th>\n",
              "      <th>emotion</th>\n",
              "      <th>word</th>\n",
              "      <th>German-de</th>\n",
              "      <th>anger</th>\n",
              "      <th>anticipation</th>\n",
              "      <th>disgust</th>\n",
              "      <th>fear</th>\n",
              "      <th>joy</th>\n",
              "      <th>sadness</th>\n",
              "      <th>surprise</th>\n",
              "      <th>trust</th>\n",
              "    </tr>\n",
              "  </thead>\n",
              "  <tbody>\n",
              "    <tr>\n",
              "      <th>0</th>\n",
              "      <td>NaN</td>\n",
              "      <td>conflict</td>\n",
              "      <td>Konflikt</td>\n",
              "      <td>0.578</td>\n",
              "      <td>NaN</td>\n",
              "      <td>NaN</td>\n",
              "      <td>0.641</td>\n",
              "      <td>NaN</td>\n",
              "      <td>0.469</td>\n",
              "      <td>NaN</td>\n",
              "      <td>NaN</td>\n",
              "    </tr>\n",
              "  </tbody>\n",
              "</table>\n",
              "</div>"
            ],
            "text/plain": [
              "  emotion      word German-de  anger  ...  joy sadness  surprise trust\n",
              "0     NaN  conflict  Konflikt  0.578  ...  NaN   0.469       NaN   NaN\n",
              "\n",
              "[1 rows x 11 columns]"
            ]
          },
          "metadata": {}
        }
      ]
    },
    {
      "cell_type": "code",
      "metadata": {
        "id": "Qd-XBkInzg9G"
      },
      "source": [
        ""
      ],
      "execution_count": null,
      "outputs": []
    }
  ]
}